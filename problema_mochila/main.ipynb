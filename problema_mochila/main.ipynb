{
 "cells": [
  {
   "cell_type": "code",
   "execution_count": null,
   "metadata": {},
   "outputs": [
    {
     "name": "stdout",
     "output_type": "stream",
     "text": [
      "Set parameter Username\n",
      "Academic license - for non-commercial use only - expires 2025-05-17\n",
      "Forma de datos_entrada: (8000, 11)\n",
      "Forma de etiquetas_salida: (8000, 11)\n"
     ]
    }
   ],
   "source": [
    "import numpy as np\n",
    "from gurobipy import Model, GRB, quicksum\n",
    "from tensorflow.keras.models import Sequential\n",
    "from tensorflow.keras.layers import Dense\n",
    "import tensorflow as tf\n",
    "from tensorflow.keras.models import load_model\n",
    "\n",
    "np.random.seed(42)\n",
    "\n",
    "# número de objetos por mochila\n",
    "n = 5  \n",
    "# número de escenarios a generar\n",
    "num_escenarios = 10000\n",
    "\n",
    "datos_entrada = []\n",
    "etiquetas_salida = []\n",
    "\n",
    "# resolver el problema de la mochila para cada escenario\n",
    "def resolver_problema_mochila_binaria(n, W, weights, values):\n",
    "    model = Model()\n",
    "    x = model.addVars(n, vtype=GRB.BINARY, name=\"x\")\n",
    "    model.setObjective(quicksum(values[i] * x[i] for i in range(n)), GRB.MAXIMIZE)\n",
    "    model.addConstr(quicksum(weights[i] * x[i] for i in range(n)) <= W, \"WeightLimit\")\n",
    "    model.setParam(\"OutputFlag\", 0)\n",
    "    model.optimize()\n",
    "    return [1 if x[i].x > 0.5 else 0 for i in range(n)]\n",
    "\n",
    "# generación de datos\n",
    "for _ in range(num_escenarios):\n",
    "    W = np.random.randint(5, 20)  # capacidad de la mochila\n",
    "    weights = np.random.randint(1, 10, n)  # pesos de los objetos\n",
    "    values = np.random.randint(1, 20, n)  # valores de los objetos\n",
    "    \n",
    "    # resolver para obtener la selección óptima\n",
    "    seleccion_optima = resolver_problema_mochila_binaria(n, W, weights, values)\n",
    "    \n",
    "    # entrada: capacidad, pesos y valores\n",
    "    datos_entrada.append(np.concatenate(([W], weights, values)))\n",
    "\n",
    "    # salida: capacidad, pesos, y selección óptima\n",
    "    etiquetas_salida.append(np.concatenate(([W], weights, seleccion_optima)))\n",
    "\n",
    "datos_entrada = np.array(datos_entrada)\n",
    "etiquetas_salida = np.array(etiquetas_salida)\n",
    "\n",
    "# dejar los ultimos 2000 escenarios para test\n",
    "datos_test = datos_entrada[-2000:]\n",
    "etiquetas_test = etiquetas_salida[-2000:]\n",
    "\n",
    "# tomar los primeros 8000 escenarios como datos de entrenamiento\n",
    "datos_entrada = datos_entrada[:8000]\n",
    "etiquetas_salida= etiquetas_salida[:8000]\n",
    "\n",
    "# comprobación de formas\n",
    "print(f\"Forma de datos_entrada: {datos_entrada.shape}\")\n",
    "print(f\"Forma de etiquetas_salida: {etiquetas_salida.shape}\")\n"
   ]
  },
  {
   "cell_type": "code",
   "execution_count": null,
   "metadata": {},
   "outputs": [
    {
     "name": "stderr",
     "output_type": "stream",
     "text": [
      "c:\\Users\\jjacq\\AppData\\Local\\Programs\\Python\\Python311\\Lib\\site-packages\\keras\\src\\layers\\core\\dense.py:87: UserWarning: Do not pass an `input_shape`/`input_dim` argument to a layer. When using Sequential models, prefer using an `Input(shape)` object as the first layer in the model instead.\n",
      "  super().__init__(activity_regularizer=activity_regularizer, **kwargs)\n"
     ]
    }
   ],
   "source": [
    "# definir el modelo de red neuronal\n",
    "modelo = Sequential([\n",
    "    Dense(64, activation='relu', input_dim=2*n+1),  # entrada: capacidad, pesos, valores\n",
    "    Dense(64, activation='relu'),\n",
    "    Dense(n, activation='sigmoid')  # salida binaria para cada objeto\n",
    "])\n"
   ]
  },
  {
   "cell_type": "code",
   "execution_count": null,
   "metadata": {},
   "outputs": [],
   "source": [
    "def loss_mochila(y_true, y_pred):\n",
    "    # extraer capacidad, pesos, y etiquetas reales desde y_true\n",
    "    capacidad = y_true[:, 0]\n",
    "    pesos = y_true[:, 1:n+1]\n",
    "    y_true_bin = y_true[:, n+1:]\n",
    "\n",
    "    y_pred_bin = tf.cast(y_pred > 0.5, tf.float32)\n",
    "\n",
    "    # calcular el peso total de los objetos seleccionados\n",
    "    peso_total = tf.reduce_sum(y_pred_bin * pesos, axis=1)\n",
    "\n",
    "    # penalización si se excede la capacidad\n",
    "    penalizacion = tf.maximum(0.0, peso_total - capacidad)\n",
    "\n",
    "    bce = tf.keras.losses.binary_crossentropy(y_true_bin, y_pred)\n",
    "\n",
    "    # combinar BCE con penalización\n",
    "    return bce + 100 * penalizacion  # factor de penalización arbitrario, pero que indique que es importante no exceder la capacidad\n"
   ]
  },
  {
   "cell_type": "code",
   "execution_count": null,
   "metadata": {},
   "outputs": [
    {
     "name": "stdout",
     "output_type": "stream",
     "text": [
      "Epoch 1/50\n",
      "\u001b[1m2000/2000\u001b[0m \u001b[32m━━━━━━━━━━━━━━━━━━━━\u001b[0m\u001b[37m\u001b[0m \u001b[1m4s\u001b[0m 1ms/step - accuracy: 0.2172 - loss: 174.7225\n",
      "Epoch 2/50\n",
      "\u001b[1m2000/2000\u001b[0m \u001b[32m━━━━━━━━━━━━━━━━━━━━\u001b[0m\u001b[37m\u001b[0m \u001b[1m2s\u001b[0m 1ms/step - accuracy: 0.2087 - loss: 91.4862\n",
      "Epoch 3/50\n",
      "\u001b[1m2000/2000\u001b[0m \u001b[32m━━━━━━━━━━━━━━━━━━━━\u001b[0m\u001b[37m\u001b[0m \u001b[1m2s\u001b[0m 1ms/step - accuracy: 0.2114 - loss: 83.2560\n",
      "Epoch 4/50\n",
      "\u001b[1m2000/2000\u001b[0m \u001b[32m━━━━━━━━━━━━━━━━━━━━\u001b[0m\u001b[37m\u001b[0m \u001b[1m2s\u001b[0m 1ms/step - accuracy: 0.2256 - loss: 72.8606\n",
      "Epoch 5/50\n",
      "\u001b[1m2000/2000\u001b[0m \u001b[32m━━━━━━━━━━━━━━━━━━━━\u001b[0m\u001b[37m\u001b[0m \u001b[1m2s\u001b[0m 1ms/step - accuracy: 0.2118 - loss: 73.9838\n",
      "Epoch 6/50\n",
      "\u001b[1m2000/2000\u001b[0m \u001b[32m━━━━━━━━━━━━━━━━━━━━\u001b[0m\u001b[37m\u001b[0m \u001b[1m3s\u001b[0m 1ms/step - accuracy: 0.2114 - loss: 69.6035\n",
      "Epoch 7/50\n",
      "\u001b[1m2000/2000\u001b[0m \u001b[32m━━━━━━━━━━━━━━━━━━━━\u001b[0m\u001b[37m\u001b[0m \u001b[1m3s\u001b[0m 1ms/step - accuracy: 0.2170 - loss: 64.6853\n",
      "Epoch 8/50\n",
      "\u001b[1m2000/2000\u001b[0m \u001b[32m━━━━━━━━━━━━━━━━━━━━\u001b[0m\u001b[37m\u001b[0m \u001b[1m2s\u001b[0m 1ms/step - accuracy: 0.2245 - loss: 67.8687\n",
      "Epoch 9/50\n",
      "\u001b[1m2000/2000\u001b[0m \u001b[32m━━━━━━━━━━━━━━━━━━━━\u001b[0m\u001b[37m\u001b[0m \u001b[1m2s\u001b[0m 1ms/step - accuracy: 0.2053 - loss: 65.7576\n",
      "Epoch 10/50\n",
      "\u001b[1m2000/2000\u001b[0m \u001b[32m━━━━━━━━━━━━━━━━━━━━\u001b[0m\u001b[37m\u001b[0m \u001b[1m2s\u001b[0m 1ms/step - accuracy: 0.2177 - loss: 64.2080\n",
      "Epoch 11/50\n",
      "\u001b[1m2000/2000\u001b[0m \u001b[32m━━━━━━━━━━━━━━━━━━━━\u001b[0m\u001b[37m\u001b[0m \u001b[1m2s\u001b[0m 1ms/step - accuracy: 0.2131 - loss: 64.3985\n",
      "Epoch 12/50\n",
      "\u001b[1m2000/2000\u001b[0m \u001b[32m━━━━━━━━━━━━━━━━━━━━\u001b[0m\u001b[37m\u001b[0m \u001b[1m2s\u001b[0m 1ms/step - accuracy: 0.2146 - loss: 64.6835\n",
      "Epoch 13/50\n",
      "\u001b[1m2000/2000\u001b[0m \u001b[32m━━━━━━━━━━━━━━━━━━━━\u001b[0m\u001b[37m\u001b[0m \u001b[1m2s\u001b[0m 1ms/step - accuracy: 0.2151 - loss: 63.8230\n",
      "Epoch 14/50\n",
      "\u001b[1m2000/2000\u001b[0m \u001b[32m━━━━━━━━━━━━━━━━━━━━\u001b[0m\u001b[37m\u001b[0m \u001b[1m2s\u001b[0m 1ms/step - accuracy: 0.2223 - loss: 61.0288\n",
      "Epoch 15/50\n",
      "\u001b[1m2000/2000\u001b[0m \u001b[32m━━━━━━━━━━━━━━━━━━━━\u001b[0m\u001b[37m\u001b[0m \u001b[1m2s\u001b[0m 1ms/step - accuracy: 0.2100 - loss: 61.7501\n",
      "Epoch 16/50\n",
      "\u001b[1m2000/2000\u001b[0m \u001b[32m━━━━━━━━━━━━━━━━━━━━\u001b[0m\u001b[37m\u001b[0m \u001b[1m2s\u001b[0m 1ms/step - accuracy: 0.2150 - loss: 59.0182\n",
      "Epoch 17/50\n",
      "\u001b[1m2000/2000\u001b[0m \u001b[32m━━━━━━━━━━━━━━━━━━━━\u001b[0m\u001b[37m\u001b[0m \u001b[1m2s\u001b[0m 1ms/step - accuracy: 0.2134 - loss: 57.2494\n",
      "Epoch 18/50\n",
      "\u001b[1m2000/2000\u001b[0m \u001b[32m━━━━━━━━━━━━━━━━━━━━\u001b[0m\u001b[37m\u001b[0m \u001b[1m2s\u001b[0m 1ms/step - accuracy: 0.2046 - loss: 59.6733\n",
      "Epoch 19/50\n",
      "\u001b[1m2000/2000\u001b[0m \u001b[32m━━━━━━━━━━━━━━━━━━━━\u001b[0m\u001b[37m\u001b[0m \u001b[1m2s\u001b[0m 1ms/step - accuracy: 0.2214 - loss: 60.2155\n",
      "Epoch 20/50\n",
      "\u001b[1m2000/2000\u001b[0m \u001b[32m━━━━━━━━━━━━━━━━━━━━\u001b[0m\u001b[37m\u001b[0m \u001b[1m2s\u001b[0m 1ms/step - accuracy: 0.2275 - loss: 56.8020\n",
      "Epoch 21/50\n",
      "\u001b[1m2000/2000\u001b[0m \u001b[32m━━━━━━━━━━━━━━━━━━━━\u001b[0m\u001b[37m\u001b[0m \u001b[1m2s\u001b[0m 1ms/step - accuracy: 0.2171 - loss: 58.4093\n",
      "Epoch 22/50\n",
      "\u001b[1m2000/2000\u001b[0m \u001b[32m━━━━━━━━━━━━━━━━━━━━\u001b[0m\u001b[37m\u001b[0m \u001b[1m2s\u001b[0m 1ms/step - accuracy: 0.2117 - loss: 59.5655\n",
      "Epoch 23/50\n",
      "\u001b[1m2000/2000\u001b[0m \u001b[32m━━━━━━━━━━━━━━━━━━━━\u001b[0m\u001b[37m\u001b[0m \u001b[1m3s\u001b[0m 1ms/step - accuracy: 0.2237 - loss: 56.9485\n",
      "Epoch 24/50\n",
      "\u001b[1m2000/2000\u001b[0m \u001b[32m━━━━━━━━━━━━━━━━━━━━\u001b[0m\u001b[37m\u001b[0m \u001b[1m2s\u001b[0m 1ms/step - accuracy: 0.2089 - loss: 55.6799\n",
      "Epoch 25/50\n",
      "\u001b[1m2000/2000\u001b[0m \u001b[32m━━━━━━━━━━━━━━━━━━━━\u001b[0m\u001b[37m\u001b[0m \u001b[1m2s\u001b[0m 1ms/step - accuracy: 0.2189 - loss: 57.7305\n",
      "Epoch 26/50\n",
      "\u001b[1m2000/2000\u001b[0m \u001b[32m━━━━━━━━━━━━━━━━━━━━\u001b[0m\u001b[37m\u001b[0m \u001b[1m2s\u001b[0m 1ms/step - accuracy: 0.2188 - loss: 56.2131\n",
      "Epoch 27/50\n",
      "\u001b[1m2000/2000\u001b[0m \u001b[32m━━━━━━━━━━━━━━━━━━━━\u001b[0m\u001b[37m\u001b[0m \u001b[1m3s\u001b[0m 1ms/step - accuracy: 0.2278 - loss: 58.1804\n",
      "Epoch 28/50\n",
      "\u001b[1m2000/2000\u001b[0m \u001b[32m━━━━━━━━━━━━━━━━━━━━\u001b[0m\u001b[37m\u001b[0m \u001b[1m2s\u001b[0m 1ms/step - accuracy: 0.2302 - loss: 54.6445\n",
      "Epoch 29/50\n",
      "\u001b[1m2000/2000\u001b[0m \u001b[32m━━━━━━━━━━━━━━━━━━━━\u001b[0m\u001b[37m\u001b[0m \u001b[1m2s\u001b[0m 1ms/step - accuracy: 0.2222 - loss: 58.3552\n",
      "Epoch 30/50\n",
      "\u001b[1m2000/2000\u001b[0m \u001b[32m━━━━━━━━━━━━━━━━━━━━\u001b[0m\u001b[37m\u001b[0m \u001b[1m2s\u001b[0m 1ms/step - accuracy: 0.2207 - loss: 54.2205\n",
      "Epoch 31/50\n",
      "\u001b[1m2000/2000\u001b[0m \u001b[32m━━━━━━━━━━━━━━━━━━━━\u001b[0m\u001b[37m\u001b[0m \u001b[1m2s\u001b[0m 1ms/step - accuracy: 0.2186 - loss: 54.2148\n",
      "Epoch 32/50\n",
      "\u001b[1m2000/2000\u001b[0m \u001b[32m━━━━━━━━━━━━━━━━━━━━\u001b[0m\u001b[37m\u001b[0m \u001b[1m2s\u001b[0m 1ms/step - accuracy: 0.2174 - loss: 54.7334\n",
      "Epoch 33/50\n",
      "\u001b[1m2000/2000\u001b[0m \u001b[32m━━━━━━━━━━━━━━━━━━━━\u001b[0m\u001b[37m\u001b[0m \u001b[1m2s\u001b[0m 1ms/step - accuracy: 0.2211 - loss: 54.6021\n",
      "Epoch 34/50\n",
      "\u001b[1m2000/2000\u001b[0m \u001b[32m━━━━━━━━━━━━━━━━━━━━\u001b[0m\u001b[37m\u001b[0m \u001b[1m3s\u001b[0m 1ms/step - accuracy: 0.2225 - loss: 55.3118\n",
      "Epoch 35/50\n",
      "\u001b[1m2000/2000\u001b[0m \u001b[32m━━━━━━━━━━━━━━━━━━━━\u001b[0m\u001b[37m\u001b[0m \u001b[1m2s\u001b[0m 1ms/step - accuracy: 0.2207 - loss: 52.2211\n",
      "Epoch 36/50\n",
      "\u001b[1m2000/2000\u001b[0m \u001b[32m━━━━━━━━━━━━━━━━━━━━\u001b[0m\u001b[37m\u001b[0m \u001b[1m3s\u001b[0m 1ms/step - accuracy: 0.2364 - loss: 53.4554\n",
      "Epoch 37/50\n",
      "\u001b[1m2000/2000\u001b[0m \u001b[32m━━━━━━━━━━━━━━━━━━━━\u001b[0m\u001b[37m\u001b[0m \u001b[1m2s\u001b[0m 1ms/step - accuracy: 0.2224 - loss: 53.1655\n",
      "Epoch 38/50\n",
      "\u001b[1m2000/2000\u001b[0m \u001b[32m━━━━━━━━━━━━━━━━━━━━\u001b[0m\u001b[37m\u001b[0m \u001b[1m2s\u001b[0m 1ms/step - accuracy: 0.2245 - loss: 52.0901\n",
      "Epoch 39/50\n",
      "\u001b[1m2000/2000\u001b[0m \u001b[32m━━━━━━━━━━━━━━━━━━━━\u001b[0m\u001b[37m\u001b[0m \u001b[1m3s\u001b[0m 1ms/step - accuracy: 0.2321 - loss: 53.5663\n",
      "Epoch 40/50\n",
      "\u001b[1m2000/2000\u001b[0m \u001b[32m━━━━━━━━━━━━━━━━━━━━\u001b[0m\u001b[37m\u001b[0m \u001b[1m2s\u001b[0m 1ms/step - accuracy: 0.2298 - loss: 51.2579\n",
      "Epoch 41/50\n",
      "\u001b[1m2000/2000\u001b[0m \u001b[32m━━━━━━━━━━━━━━━━━━━━\u001b[0m\u001b[37m\u001b[0m \u001b[1m3s\u001b[0m 1ms/step - accuracy: 0.2479 - loss: 53.0250\n",
      "Epoch 42/50\n",
      "\u001b[1m2000/2000\u001b[0m \u001b[32m━━━━━━━━━━━━━━━━━━━━\u001b[0m\u001b[37m\u001b[0m \u001b[1m2s\u001b[0m 1ms/step - accuracy: 0.2382 - loss: 51.3645\n",
      "Epoch 43/50\n",
      "\u001b[1m2000/2000\u001b[0m \u001b[32m━━━━━━━━━━━━━━━━━━━━\u001b[0m\u001b[37m\u001b[0m \u001b[1m3s\u001b[0m 1ms/step - accuracy: 0.2365 - loss: 49.4966\n",
      "Epoch 44/50\n",
      "\u001b[1m2000/2000\u001b[0m \u001b[32m━━━━━━━━━━━━━━━━━━━━\u001b[0m\u001b[37m\u001b[0m \u001b[1m2s\u001b[0m 1ms/step - accuracy: 0.2384 - loss: 52.0006\n",
      "Epoch 45/50\n",
      "\u001b[1m2000/2000\u001b[0m \u001b[32m━━━━━━━━━━━━━━━━━━━━\u001b[0m\u001b[37m\u001b[0m \u001b[1m2s\u001b[0m 1ms/step - accuracy: 0.2301 - loss: 50.1196\n",
      "Epoch 46/50\n",
      "\u001b[1m2000/2000\u001b[0m \u001b[32m━━━━━━━━━━━━━━━━━━━━\u001b[0m\u001b[37m\u001b[0m \u001b[1m3s\u001b[0m 1ms/step - accuracy: 0.2310 - loss: 51.4109\n",
      "Epoch 47/50\n",
      "\u001b[1m2000/2000\u001b[0m \u001b[32m━━━━━━━━━━━━━━━━━━━━\u001b[0m\u001b[37m\u001b[0m \u001b[1m3s\u001b[0m 1ms/step - accuracy: 0.2382 - loss: 51.6622\n",
      "Epoch 48/50\n",
      "\u001b[1m2000/2000\u001b[0m \u001b[32m━━━━━━━━━━━━━━━━━━━━\u001b[0m\u001b[37m\u001b[0m \u001b[1m3s\u001b[0m 1ms/step - accuracy: 0.2453 - loss: 52.6671\n",
      "Epoch 49/50\n",
      "\u001b[1m2000/2000\u001b[0m \u001b[32m━━━━━━━━━━━━━━━━━━━━\u001b[0m\u001b[37m\u001b[0m \u001b[1m3s\u001b[0m 1ms/step - accuracy: 0.2380 - loss: 51.7714\n",
      "Epoch 50/50\n",
      "\u001b[1m2000/2000\u001b[0m \u001b[32m━━━━━━━━━━━━━━━━━━━━\u001b[0m\u001b[37m\u001b[0m \u001b[1m3s\u001b[0m 2ms/step - accuracy: 0.2323 - loss: 53.3945\n"
     ]
    },
    {
     "data": {
      "text/plain": [
       "<keras.src.callbacks.history.History at 0x26218352b50>"
      ]
     },
     "execution_count": 4,
     "metadata": {},
     "output_type": "execute_result"
    }
   ],
   "source": [
    "modelo.compile(optimizer='adam', loss=loss_mochila, metrics=['accuracy'])\n",
    "modelo.fit(datos_entrada, etiquetas_salida, epochs=50, batch_size=4, verbose=1)\n"
   ]
  },
  {
   "cell_type": "code",
   "execution_count": null,
   "metadata": {},
   "outputs": [
    {
     "name": "stdout",
     "output_type": "stream",
     "text": [
      "\u001b[1m63/63\u001b[0m \u001b[32m━━━━━━━━━━━━━━━━━━━━\u001b[0m\u001b[37m\u001b[0m \u001b[1m0s\u001b[0m 2ms/step - accuracy: 0.2460 - loss: 59.7647  \n"
     ]
    }
   ],
   "source": [
    "loss, accuracy = modelo.evaluate(datos_test, etiquetas_test)"
   ]
  },
  {
   "cell_type": "code",
   "execution_count": null,
   "metadata": {},
   "outputs": [],
   "source": [
    "#modelo.save('modelo_mochila.keras') # descomentar para guardar el modelo, pero ya existe uno entrenado"
   ]
  },
  {
   "cell_type": "code",
   "execution_count": null,
   "metadata": {},
   "outputs": [],
   "source": [
    "from tensorflow.keras.models import load_model\n",
    "modelo = load_model('modelo_mochila.keras', custom_objects={'loss_mochila': loss_mochila})"
   ]
  },
  {
   "cell_type": "code",
   "execution_count": null,
   "metadata": {},
   "outputs": [],
   "source": [
    "def es_factible(seleccion, weights, W):\n",
    "    return sum(weights[i] for i in range(len(seleccion)) if seleccion[i] == 1) <= W\n",
    "\n",
    "# función heurística para ajustar la selección si no es factible\n",
    "def factibilizar_seleccion(weights, seleccion, W):\n",
    "    peso_total = sum(weights[i] for i in range(len(seleccion)) if seleccion[i] == 1)\n",
    "    n = len(weights)\n",
    "\n",
    "    # si la selección no es factible, ajustamos\n",
    "    if not es_factible(seleccion, weights, W):\n",
    "        # crear una lista de índices de objetos seleccionados\n",
    "        indices_seleccionados = [i for i in range(n) if seleccion[i] == 1]\n",
    "        \n",
    "        # ordenar objetos seleccionados por su peso\n",
    "        indices_seleccionados.sort(key=lambda i: weights[i], reverse=True)\n",
    "        \n",
    "        # des-seleccionar objetos hasta que la selección sea factible\n",
    "        for i in indices_seleccionados:\n",
    "            if peso_total > W:\n",
    "                seleccion[i] = 0  # deseleccionamos el objeto\n",
    "                peso_total -= weights[i]  # actualizar el peso total\n",
    "\n",
    "    return seleccion\n"
   ]
  },
  {
   "cell_type": "code",
   "execution_count": null,
   "metadata": {},
   "outputs": [],
   "source": [
    "num_factibles = 0\n",
    "numero_optimos = 0\n",
    "numero_optimos_post_factibilizacion = 0\n",
    "\n",
    "for i in range(2000):  # iterar sobre todos los escenarios de test\n",
    "    entrada = datos_test[i].reshape(1, -1)  # escenario actual\n",
    "    prediccion = modelo.predict(entrada, verbose=0)  # predicción de la red neuronal\n",
    "    seleccion = np.round(prediccion[0])  # convertir a selección binaria (0 o 1)\n",
    "    \n",
    "    W = entrada[0, 0]  # capacidad\n",
    "    weights = entrada[0, 1:n+1]  # pesos de los objetos\n",
    "    \n",
    "    # verificar factibilidad\n",
    "    if es_factible(seleccion, weights, W):\n",
    "        num_factibles += 1\n",
    "        # verificar si la selección es óptima\n",
    "        seleccion_optima = etiquetas_test[i][n+1:]\n",
    "        if np.array_equal(seleccion, seleccion_optima):\n",
    "            numero_optimos += 1\n",
    "    else:\n",
    "        # ajustar la selección para hacerla factible\n",
    "        seleccion = factibilizar_seleccion(weights, seleccion, W)\n",
    "        \n",
    "        if es_factible(seleccion, weights, W):\n",
    "            # comparar la f.o entre la selección ajustada y la óptima\n",
    "            seleccion_optima = etiquetas_test[i][n+1:]\n",
    "            # ver si es igual a la seleccion optima\n",
    "            if np.array_equal(seleccion, seleccion_optima):\n",
    "                numero_optimos_post_factibilizacion += 1\n",
    "\n",
    "        else:\n",
    "            print(f\"Escenario {i}: No se pudo hacer factible\")\n",
    "            print(f\"Selección: {seleccion}\")\n",
    "            print(f\"Selección óptima: {seleccion_optima}\")\n"
   ]
  },
  {
   "cell_type": "code",
   "execution_count": null,
   "metadata": {},
   "outputs": [
    {
     "name": "stdout",
     "output_type": "stream",
     "text": [
      "Porcentaje de escenarios factibles: 0.76\n",
      "Porcentaje de escenarios óptimos en total: 0.48\n",
      "Porcentaje de escenarios óptimos en factibles: 0.62\n",
      "Porcentaje de escenarios óptimos post-factibilización: 0.14\n"
     ]
    }
   ],
   "source": [
    "print(f\"Porcentaje de escenarios factibles: {num_factibles / 2000:.2f}\")\n",
    "print(f\"Porcentaje de escenarios óptimos en total: {numero_optimos / 2000:.2f}\")\n",
    "print(f\"Porcentaje de escenarios óptimos en factibles: {numero_optimos / num_factibles:.2f}\")\n",
    "print(f\"Porcentaje de escenarios óptimos post-factibilización: {numero_optimos_post_factibilizacion / (2000 - num_factibles):.2f}\")"
   ]
  }
 ],
 "metadata": {
  "kernelspec": {
   "display_name": "Python 3",
   "language": "python",
   "name": "python3"
  },
  "language_info": {
   "codemirror_mode": {
    "name": "ipython",
    "version": 3
   },
   "file_extension": ".py",
   "mimetype": "text/x-python",
   "name": "python",
   "nbconvert_exporter": "python",
   "pygments_lexer": "ipython3",
   "version": "3.11.7"
  }
 },
 "nbformat": 4,
 "nbformat_minor": 2
}
