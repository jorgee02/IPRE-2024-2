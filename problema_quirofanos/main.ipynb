{
 "cells": [
  {
   "cell_type": "code",
   "execution_count": 2,
   "metadata": {},
   "outputs": [],
   "source": [
    "import tensorflow as tf\n",
    "from tensorflow.keras.layers import Input, Dense, Conv2D, MaxPooling2D, Flatten, Concatenate, Reshape, Dropout\n",
    "from tensorflow.keras.models import Model\n",
    "import numpy as np\n",
    "from sklearn.model_selection import train_test_split\n",
    "import gurobipy as gp\n",
    "from gurobipy import GRB\n",
    "import pandas as pd"
   ]
  },
  {
   "cell_type": "code",
   "execution_count": 3,
   "metadata": {},
   "outputs": [],
   "source": [
    "N, P = 3, 25"
   ]
  },
  {
   "cell_type": "code",
   "execution_count": null,
   "metadata": {},
   "outputs": [],
   "source": [
    "def modelo_gurobi(N: int, P: int, T: int, Q: int, w: list, K: list, c: list, beta: list):\n",
    "    if len(K) != N:\n",
    "        raise ValueError(f\"La longitud de K ({len(K)}) no coincide con N ({N})\")\n",
    "    if len(c) != N:\n",
    "        raise ValueError(f\"La longitud de c ({len(c)}) no coincide con N ({N})\")\n",
    "    if len(beta) != P:\n",
    "        raise ValueError(f\"La longitud de beta ({len(beta)}) no coincide con P ({P})\")\n",
    "\n",
    "    modelo_gurobi = gp.Model(\"asignacion_quirófanos\")\n",
    "\n",
    "    x = modelo_gurobi.addVars(P, N, vtype=GRB.BINARY, name=\"x\")\n",
    "    y = modelo_gurobi.addVars(N, vtype=GRB.BINARY, name=\"y\")\n",
    "    z = modelo_gurobi.addVars(P, vtype=GRB.BINARY, name=\"z\")\n",
    "    t = modelo_gurobi.addVars(N, vtype=GRB.CONTINUOUS, lb=0.0, name=\"t\")\n",
    "\n",
    "    modelo_gurobi.setObjective(\n",
    "        gp.quicksum(K[j] * y[j] + c[j] * t[j] for j in range(N)) + gp.quicksum(beta[i] * z[i] for i in range(P)),\n",
    "        GRB.MINIMIZE\n",
    "    )\n",
    "\n",
    "    # Restricciones\n",
    "    for i in range(P):\n",
    "        modelo_gurobi.addConstr(gp.quicksum(x[i, j] for j in range(N)) + z[i] == 1)\n",
    "    for j in range(N):\n",
    "        modelo_gurobi.addConstr(gp.quicksum(x[i, j] for i in range(P)) <= P * y[j])\n",
    "    for j in range(N):\n",
    "        modelo_gurobi.addConstr(gp.quicksum(w[i] * x[i, j] for i in range(P)) <= T + t[j])\n",
    "    modelo_gurobi.addConstr(gp.quicksum(t[j] for j in range(N)) <= Q)\n",
    "\n",
    "    # agregar restriccion de que z_i <= z_i+1\n",
    "    for i in range(P - 1):\n",
    "        modelo_gurobi.addConstr(z[i] <= z[i + 1])\n",
    "\n",
    "    modelo_gurobi.Params.OutputFlag = 0\n",
    "\n",
    "    modelo_gurobi.Params.TimeLimit = 5 * 60\n",
    "    modelo_gurobi.update()\n",
    "    modelo_gurobi.optimize()\n",
    "\n",
    "    if modelo_gurobi.Status == GRB.OPTIMAL or modelo_gurobi.Status == GRB.SUBOPTIMAL or modelo_gurobi.Status == GRB.TIME_LIMIT:\n",
    "        x_values = np.array([[x[i, j].x for j in range(N)] for i in range(P)])\n",
    "        y_values = np.array([y[j].x for j in range(N)])\n",
    "        z_values = np.array([z[i].x for i in range(P)])\n",
    "        t_values = np.array([t[j].x for j in range(N)])\n",
    "\n",
    "        x_values = x_values.tolist()\n",
    "        y_values = y_values.tolist()\n",
    "        z_values = z_values.tolist()\n",
    "        t_values = t_values.tolist()\n",
    "\n",
    "        return x_values, y_values, z_values, t_values\n",
    "    else:\n",
    "        print(f\"No se encontró una solución factible. Estado: {modelo_gurobi.Status}\")\n",
    "        return None, None, None, None\n"
   ]
  },
  {
   "cell_type": "code",
   "execution_count": 5,
   "metadata": {},
   "outputs": [],
   "source": [
    "def generar_instancias_y_resolver(num_instancias, N, P):\n",
    "    archivo_resultados = \"resultados.csv\"\n",
    "    es_primera_instancia = True\n",
    "\n",
    "    for _ in range(num_instancias):\n",
    "        w = np.random.randint(4, 16, P).tolist()  # P elementos, en horas\n",
    "        K = np.random.randint(400, 500, N).tolist()  # N elementos, en dólares\n",
    "        c = np.random.randint(50, 100, N).tolist()  # N elementos, en dólares\n",
    "        beta = np.random.randint(500, 700, P).tolist()  # P elementos, en dólares\n",
    "        T = 32 # 8 horas disponibles en cuartos de hora\n",
    "        Q = 16 # 4 horas disponibles de sobretiempo en cuartos de hora\n",
    "\n",
    "        x_values, y_values, z_values, t_values = modelo_gurobi(\n",
    "            N, P, T, Q, w, K, c, beta\n",
    "        )\n",
    "        \n",
    "        if x_values is not None:\n",
    "            # Preparar los datos para guardar\n",
    "            resultado = pd.DataFrame({\n",
    "                \"x_values\": [x_values],\n",
    "                \"y_values\": [y_values],\n",
    "                \"z_values\": [z_values],\n",
    "                \"t_values\": [t_values],\n",
    "                \"w\": [w],\n",
    "                \"K\": [K],\n",
    "                \"c\": [c],\n",
    "                \"beta\": [beta],\n",
    "                \"T\": [T],\n",
    "                \"Q\": [Q]\n",
    "            })\n",
    "\n",
    "            resultado.to_csv(archivo_resultados, mode=\"a\", header=es_primera_instancia, index=False)\n",
    "            \n",
    "            es_primera_instancia = False\n",
    "            print(_)\n"
   ]
  },
  {
   "cell_type": "code",
   "execution_count": 6,
   "metadata": {},
   "outputs": [],
   "source": [
    "num_instancias = 10000\n",
    "#generar_instancias_y_resolver(num_instancias, N, P)"
   ]
  },
  {
   "cell_type": "code",
   "execution_count": 7,
   "metadata": {},
   "outputs": [
    {
     "data": {
      "text/html": [
       "<pre style=\"white-space:pre;overflow-x:auto;line-height:normal;font-family:Menlo,'DejaVu Sans Mono',consolas,'Courier New',monospace\"><span style=\"font-weight: bold\">Model: \"functional\"</span>\n",
       "</pre>\n"
      ],
      "text/plain": [
       "\u001b[1mModel: \"functional\"\u001b[0m\n"
      ]
     },
     "metadata": {},
     "output_type": "display_data"
    },
    {
     "data": {
      "text/html": [
       "<pre style=\"white-space:pre;overflow-x:auto;line-height:normal;font-family:Menlo,'DejaVu Sans Mono',consolas,'Courier New',monospace\">┏━━━━━━━━━━━━━━━━━━━━━┳━━━━━━━━━━━━━━━━━━━┳━━━━━━━━━━━━┳━━━━━━━━━━━━━━━━━━━┓\n",
       "┃<span style=\"font-weight: bold\"> Layer (type)        </span>┃<span style=\"font-weight: bold\"> Output Shape      </span>┃<span style=\"font-weight: bold\">    Param # </span>┃<span style=\"font-weight: bold\"> Connected to      </span>┃\n",
       "┡━━━━━━━━━━━━━━━━━━━━━╇━━━━━━━━━━━━━━━━━━━╇━━━━━━━━━━━━╇━━━━━━━━━━━━━━━━━━━┩\n",
       "│ input_N             │ (<span style=\"color: #00d7ff; text-decoration-color: #00d7ff\">None</span>, <span style=\"color: #00af00; text-decoration-color: #00af00\">1</span>)         │          <span style=\"color: #00af00; text-decoration-color: #00af00\">0</span> │ -                 │\n",
       "│ (<span style=\"color: #0087ff; text-decoration-color: #0087ff\">InputLayer</span>)        │                   │            │                   │\n",
       "├─────────────────────┼───────────────────┼────────────┼───────────────────┤\n",
       "│ input_P             │ (<span style=\"color: #00d7ff; text-decoration-color: #00d7ff\">None</span>, <span style=\"color: #00af00; text-decoration-color: #00af00\">1</span>)         │          <span style=\"color: #00af00; text-decoration-color: #00af00\">0</span> │ -                 │\n",
       "│ (<span style=\"color: #0087ff; text-decoration-color: #0087ff\">InputLayer</span>)        │                   │            │                   │\n",
       "├─────────────────────┼───────────────────┼────────────┼───────────────────┤\n",
       "│ input_T             │ (<span style=\"color: #00d7ff; text-decoration-color: #00d7ff\">None</span>, <span style=\"color: #00af00; text-decoration-color: #00af00\">1</span>)         │          <span style=\"color: #00af00; text-decoration-color: #00af00\">0</span> │ -                 │\n",
       "│ (<span style=\"color: #0087ff; text-decoration-color: #0087ff\">InputLayer</span>)        │                   │            │                   │\n",
       "├─────────────────────┼───────────────────┼────────────┼───────────────────┤\n",
       "│ input_Q             │ (<span style=\"color: #00d7ff; text-decoration-color: #00d7ff\">None</span>, <span style=\"color: #00af00; text-decoration-color: #00af00\">1</span>)         │          <span style=\"color: #00af00; text-decoration-color: #00af00\">0</span> │ -                 │\n",
       "│ (<span style=\"color: #0087ff; text-decoration-color: #0087ff\">InputLayer</span>)        │                   │            │                   │\n",
       "├─────────────────────┼───────────────────┼────────────┼───────────────────┤\n",
       "│ input_w             │ (<span style=\"color: #00d7ff; text-decoration-color: #00d7ff\">None</span>, <span style=\"color: #00af00; text-decoration-color: #00af00\">25</span>)        │          <span style=\"color: #00af00; text-decoration-color: #00af00\">0</span> │ -                 │\n",
       "│ (<span style=\"color: #0087ff; text-decoration-color: #0087ff\">InputLayer</span>)        │                   │            │                   │\n",
       "├─────────────────────┼───────────────────┼────────────┼───────────────────┤\n",
       "│ input_K             │ (<span style=\"color: #00d7ff; text-decoration-color: #00d7ff\">None</span>, <span style=\"color: #00af00; text-decoration-color: #00af00\">3</span>)         │          <span style=\"color: #00af00; text-decoration-color: #00af00\">0</span> │ -                 │\n",
       "│ (<span style=\"color: #0087ff; text-decoration-color: #0087ff\">InputLayer</span>)        │                   │            │                   │\n",
       "├─────────────────────┼───────────────────┼────────────┼───────────────────┤\n",
       "│ input_c             │ (<span style=\"color: #00d7ff; text-decoration-color: #00d7ff\">None</span>, <span style=\"color: #00af00; text-decoration-color: #00af00\">3</span>)         │          <span style=\"color: #00af00; text-decoration-color: #00af00\">0</span> │ -                 │\n",
       "│ (<span style=\"color: #0087ff; text-decoration-color: #0087ff\">InputLayer</span>)        │                   │            │                   │\n",
       "├─────────────────────┼───────────────────┼────────────┼───────────────────┤\n",
       "│ input_beta          │ (<span style=\"color: #00d7ff; text-decoration-color: #00d7ff\">None</span>, <span style=\"color: #00af00; text-decoration-color: #00af00\">25</span>)        │          <span style=\"color: #00af00; text-decoration-color: #00af00\">0</span> │ -                 │\n",
       "│ (<span style=\"color: #0087ff; text-decoration-color: #0087ff\">InputLayer</span>)        │                   │            │                   │\n",
       "├─────────────────────┼───────────────────┼────────────┼───────────────────┤\n",
       "│ inputs              │ (<span style=\"color: #00d7ff; text-decoration-color: #00d7ff\">None</span>, <span style=\"color: #00af00; text-decoration-color: #00af00\">4</span>)         │          <span style=\"color: #00af00; text-decoration-color: #00af00\">0</span> │ input_N[<span style=\"color: #00af00; text-decoration-color: #00af00\">0</span>][<span style=\"color: #00af00; text-decoration-color: #00af00\">0</span>],    │\n",
       "│ (<span style=\"color: #0087ff; text-decoration-color: #0087ff\">Concatenate</span>)       │                   │            │ input_P[<span style=\"color: #00af00; text-decoration-color: #00af00\">0</span>][<span style=\"color: #00af00; text-decoration-color: #00af00\">0</span>],    │\n",
       "│                     │                   │            │ input_T[<span style=\"color: #00af00; text-decoration-color: #00af00\">0</span>][<span style=\"color: #00af00; text-decoration-color: #00af00\">0</span>],    │\n",
       "│                     │                   │            │ input_Q[<span style=\"color: #00af00; text-decoration-color: #00af00\">0</span>][<span style=\"color: #00af00; text-decoration-color: #00af00\">0</span>]     │\n",
       "├─────────────────────┼───────────────────┼────────────┼───────────────────┤\n",
       "│ input_vectors       │ (<span style=\"color: #00d7ff; text-decoration-color: #00d7ff\">None</span>, <span style=\"color: #00af00; text-decoration-color: #00af00\">56</span>)        │          <span style=\"color: #00af00; text-decoration-color: #00af00\">0</span> │ input_w[<span style=\"color: #00af00; text-decoration-color: #00af00\">0</span>][<span style=\"color: #00af00; text-decoration-color: #00af00\">0</span>],    │\n",
       "│ (<span style=\"color: #0087ff; text-decoration-color: #0087ff\">Concatenate</span>)       │                   │            │ input_K[<span style=\"color: #00af00; text-decoration-color: #00af00\">0</span>][<span style=\"color: #00af00; text-decoration-color: #00af00\">0</span>],    │\n",
       "│                     │                   │            │ input_c[<span style=\"color: #00af00; text-decoration-color: #00af00\">0</span>][<span style=\"color: #00af00; text-decoration-color: #00af00\">0</span>],    │\n",
       "│                     │                   │            │ input_beta[<span style=\"color: #00af00; text-decoration-color: #00af00\">0</span>][<span style=\"color: #00af00; text-decoration-color: #00af00\">0</span>]  │\n",
       "├─────────────────────┼───────────────────┼────────────┼───────────────────┤\n",
       "│ all_inputs          │ (<span style=\"color: #00d7ff; text-decoration-color: #00d7ff\">None</span>, <span style=\"color: #00af00; text-decoration-color: #00af00\">60</span>)        │          <span style=\"color: #00af00; text-decoration-color: #00af00\">0</span> │ inputs[<span style=\"color: #00af00; text-decoration-color: #00af00\">0</span>][<span style=\"color: #00af00; text-decoration-color: #00af00\">0</span>],     │\n",
       "│ (<span style=\"color: #0087ff; text-decoration-color: #0087ff\">Concatenate</span>)       │                   │            │ input_vectors[<span style=\"color: #00af00; text-decoration-color: #00af00\">0</span>]… │\n",
       "├─────────────────────┼───────────────────┼────────────┼───────────────────┤\n",
       "│ dense (<span style=\"color: #0087ff; text-decoration-color: #0087ff\">Dense</span>)       │ (<span style=\"color: #00d7ff; text-decoration-color: #00d7ff\">None</span>, <span style=\"color: #00af00; text-decoration-color: #00af00\">64</span>)        │      <span style=\"color: #00af00; text-decoration-color: #00af00\">3,904</span> │ all_inputs[<span style=\"color: #00af00; text-decoration-color: #00af00\">0</span>][<span style=\"color: #00af00; text-decoration-color: #00af00\">0</span>]  │\n",
       "├─────────────────────┼───────────────────┼────────────┼───────────────────┤\n",
       "│ dense_1 (<span style=\"color: #0087ff; text-decoration-color: #0087ff\">Dense</span>)     │ (<span style=\"color: #00d7ff; text-decoration-color: #00d7ff\">None</span>, <span style=\"color: #00af00; text-decoration-color: #00af00\">64</span>)        │      <span style=\"color: #00af00; text-decoration-color: #00af00\">4,160</span> │ dense[<span style=\"color: #00af00; text-decoration-color: #00af00\">0</span>][<span style=\"color: #00af00; text-decoration-color: #00af00\">0</span>]       │\n",
       "├─────────────────────┼───────────────────┼────────────┼───────────────────┤\n",
       "│ output_x (<span style=\"color: #0087ff; text-decoration-color: #0087ff\">Dense</span>)    │ (<span style=\"color: #00d7ff; text-decoration-color: #00d7ff\">None</span>, <span style=\"color: #00af00; text-decoration-color: #00af00\">75</span>)        │      <span style=\"color: #00af00; text-decoration-color: #00af00\">4,875</span> │ dense_1[<span style=\"color: #00af00; text-decoration-color: #00af00\">0</span>][<span style=\"color: #00af00; text-decoration-color: #00af00\">0</span>]     │\n",
       "├─────────────────────┼───────────────────┼────────────┼───────────────────┤\n",
       "│ reshape_x (<span style=\"color: #0087ff; text-decoration-color: #0087ff\">Reshape</span>) │ (<span style=\"color: #00d7ff; text-decoration-color: #00d7ff\">None</span>, <span style=\"color: #00af00; text-decoration-color: #00af00\">25</span>, <span style=\"color: #00af00; text-decoration-color: #00af00\">3</span>)     │          <span style=\"color: #00af00; text-decoration-color: #00af00\">0</span> │ output_x[<span style=\"color: #00af00; text-decoration-color: #00af00\">0</span>][<span style=\"color: #00af00; text-decoration-color: #00af00\">0</span>]    │\n",
       "├─────────────────────┼───────────────────┼────────────┼───────────────────┤\n",
       "│ output_y (<span style=\"color: #0087ff; text-decoration-color: #0087ff\">Dense</span>)    │ (<span style=\"color: #00d7ff; text-decoration-color: #00d7ff\">None</span>, <span style=\"color: #00af00; text-decoration-color: #00af00\">3</span>)         │        <span style=\"color: #00af00; text-decoration-color: #00af00\">195</span> │ dense_1[<span style=\"color: #00af00; text-decoration-color: #00af00\">0</span>][<span style=\"color: #00af00; text-decoration-color: #00af00\">0</span>]     │\n",
       "├─────────────────────┼───────────────────┼────────────┼───────────────────┤\n",
       "│ output_z (<span style=\"color: #0087ff; text-decoration-color: #0087ff\">Dense</span>)    │ (<span style=\"color: #00d7ff; text-decoration-color: #00d7ff\">None</span>, <span style=\"color: #00af00; text-decoration-color: #00af00\">25</span>)        │      <span style=\"color: #00af00; text-decoration-color: #00af00\">1,625</span> │ dense_1[<span style=\"color: #00af00; text-decoration-color: #00af00\">0</span>][<span style=\"color: #00af00; text-decoration-color: #00af00\">0</span>]     │\n",
       "└─────────────────────┴───────────────────┴────────────┴───────────────────┘\n",
       "</pre>\n"
      ],
      "text/plain": [
       "┏━━━━━━━━━━━━━━━━━━━━━┳━━━━━━━━━━━━━━━━━━━┳━━━━━━━━━━━━┳━━━━━━━━━━━━━━━━━━━┓\n",
       "┃\u001b[1m \u001b[0m\u001b[1mLayer (type)       \u001b[0m\u001b[1m \u001b[0m┃\u001b[1m \u001b[0m\u001b[1mOutput Shape     \u001b[0m\u001b[1m \u001b[0m┃\u001b[1m \u001b[0m\u001b[1m   Param #\u001b[0m\u001b[1m \u001b[0m┃\u001b[1m \u001b[0m\u001b[1mConnected to     \u001b[0m\u001b[1m \u001b[0m┃\n",
       "┡━━━━━━━━━━━━━━━━━━━━━╇━━━━━━━━━━━━━━━━━━━╇━━━━━━━━━━━━╇━━━━━━━━━━━━━━━━━━━┩\n",
       "│ input_N             │ (\u001b[38;5;45mNone\u001b[0m, \u001b[38;5;34m1\u001b[0m)         │          \u001b[38;5;34m0\u001b[0m │ -                 │\n",
       "│ (\u001b[38;5;33mInputLayer\u001b[0m)        │                   │            │                   │\n",
       "├─────────────────────┼───────────────────┼────────────┼───────────────────┤\n",
       "│ input_P             │ (\u001b[38;5;45mNone\u001b[0m, \u001b[38;5;34m1\u001b[0m)         │          \u001b[38;5;34m0\u001b[0m │ -                 │\n",
       "│ (\u001b[38;5;33mInputLayer\u001b[0m)        │                   │            │                   │\n",
       "├─────────────────────┼───────────────────┼────────────┼───────────────────┤\n",
       "│ input_T             │ (\u001b[38;5;45mNone\u001b[0m, \u001b[38;5;34m1\u001b[0m)         │          \u001b[38;5;34m0\u001b[0m │ -                 │\n",
       "│ (\u001b[38;5;33mInputLayer\u001b[0m)        │                   │            │                   │\n",
       "├─────────────────────┼───────────────────┼────────────┼───────────────────┤\n",
       "│ input_Q             │ (\u001b[38;5;45mNone\u001b[0m, \u001b[38;5;34m1\u001b[0m)         │          \u001b[38;5;34m0\u001b[0m │ -                 │\n",
       "│ (\u001b[38;5;33mInputLayer\u001b[0m)        │                   │            │                   │\n",
       "├─────────────────────┼───────────────────┼────────────┼───────────────────┤\n",
       "│ input_w             │ (\u001b[38;5;45mNone\u001b[0m, \u001b[38;5;34m25\u001b[0m)        │          \u001b[38;5;34m0\u001b[0m │ -                 │\n",
       "│ (\u001b[38;5;33mInputLayer\u001b[0m)        │                   │            │                   │\n",
       "├─────────────────────┼───────────────────┼────────────┼───────────────────┤\n",
       "│ input_K             │ (\u001b[38;5;45mNone\u001b[0m, \u001b[38;5;34m3\u001b[0m)         │          \u001b[38;5;34m0\u001b[0m │ -                 │\n",
       "│ (\u001b[38;5;33mInputLayer\u001b[0m)        │                   │            │                   │\n",
       "├─────────────────────┼───────────────────┼────────────┼───────────────────┤\n",
       "│ input_c             │ (\u001b[38;5;45mNone\u001b[0m, \u001b[38;5;34m3\u001b[0m)         │          \u001b[38;5;34m0\u001b[0m │ -                 │\n",
       "│ (\u001b[38;5;33mInputLayer\u001b[0m)        │                   │            │                   │\n",
       "├─────────────────────┼───────────────────┼────────────┼───────────────────┤\n",
       "│ input_beta          │ (\u001b[38;5;45mNone\u001b[0m, \u001b[38;5;34m25\u001b[0m)        │          \u001b[38;5;34m0\u001b[0m │ -                 │\n",
       "│ (\u001b[38;5;33mInputLayer\u001b[0m)        │                   │            │                   │\n",
       "├─────────────────────┼───────────────────┼────────────┼───────────────────┤\n",
       "│ inputs              │ (\u001b[38;5;45mNone\u001b[0m, \u001b[38;5;34m4\u001b[0m)         │          \u001b[38;5;34m0\u001b[0m │ input_N[\u001b[38;5;34m0\u001b[0m][\u001b[38;5;34m0\u001b[0m],    │\n",
       "│ (\u001b[38;5;33mConcatenate\u001b[0m)       │                   │            │ input_P[\u001b[38;5;34m0\u001b[0m][\u001b[38;5;34m0\u001b[0m],    │\n",
       "│                     │                   │            │ input_T[\u001b[38;5;34m0\u001b[0m][\u001b[38;5;34m0\u001b[0m],    │\n",
       "│                     │                   │            │ input_Q[\u001b[38;5;34m0\u001b[0m][\u001b[38;5;34m0\u001b[0m]     │\n",
       "├─────────────────────┼───────────────────┼────────────┼───────────────────┤\n",
       "│ input_vectors       │ (\u001b[38;5;45mNone\u001b[0m, \u001b[38;5;34m56\u001b[0m)        │          \u001b[38;5;34m0\u001b[0m │ input_w[\u001b[38;5;34m0\u001b[0m][\u001b[38;5;34m0\u001b[0m],    │\n",
       "│ (\u001b[38;5;33mConcatenate\u001b[0m)       │                   │            │ input_K[\u001b[38;5;34m0\u001b[0m][\u001b[38;5;34m0\u001b[0m],    │\n",
       "│                     │                   │            │ input_c[\u001b[38;5;34m0\u001b[0m][\u001b[38;5;34m0\u001b[0m],    │\n",
       "│                     │                   │            │ input_beta[\u001b[38;5;34m0\u001b[0m][\u001b[38;5;34m0\u001b[0m]  │\n",
       "├─────────────────────┼───────────────────┼────────────┼───────────────────┤\n",
       "│ all_inputs          │ (\u001b[38;5;45mNone\u001b[0m, \u001b[38;5;34m60\u001b[0m)        │          \u001b[38;5;34m0\u001b[0m │ inputs[\u001b[38;5;34m0\u001b[0m][\u001b[38;5;34m0\u001b[0m],     │\n",
       "│ (\u001b[38;5;33mConcatenate\u001b[0m)       │                   │            │ input_vectors[\u001b[38;5;34m0\u001b[0m]… │\n",
       "├─────────────────────┼───────────────────┼────────────┼───────────────────┤\n",
       "│ dense (\u001b[38;5;33mDense\u001b[0m)       │ (\u001b[38;5;45mNone\u001b[0m, \u001b[38;5;34m64\u001b[0m)        │      \u001b[38;5;34m3,904\u001b[0m │ all_inputs[\u001b[38;5;34m0\u001b[0m][\u001b[38;5;34m0\u001b[0m]  │\n",
       "├─────────────────────┼───────────────────┼────────────┼───────────────────┤\n",
       "│ dense_1 (\u001b[38;5;33mDense\u001b[0m)     │ (\u001b[38;5;45mNone\u001b[0m, \u001b[38;5;34m64\u001b[0m)        │      \u001b[38;5;34m4,160\u001b[0m │ dense[\u001b[38;5;34m0\u001b[0m][\u001b[38;5;34m0\u001b[0m]       │\n",
       "├─────────────────────┼───────────────────┼────────────┼───────────────────┤\n",
       "│ output_x (\u001b[38;5;33mDense\u001b[0m)    │ (\u001b[38;5;45mNone\u001b[0m, \u001b[38;5;34m75\u001b[0m)        │      \u001b[38;5;34m4,875\u001b[0m │ dense_1[\u001b[38;5;34m0\u001b[0m][\u001b[38;5;34m0\u001b[0m]     │\n",
       "├─────────────────────┼───────────────────┼────────────┼───────────────────┤\n",
       "│ reshape_x (\u001b[38;5;33mReshape\u001b[0m) │ (\u001b[38;5;45mNone\u001b[0m, \u001b[38;5;34m25\u001b[0m, \u001b[38;5;34m3\u001b[0m)     │          \u001b[38;5;34m0\u001b[0m │ output_x[\u001b[38;5;34m0\u001b[0m][\u001b[38;5;34m0\u001b[0m]    │\n",
       "├─────────────────────┼───────────────────┼────────────┼───────────────────┤\n",
       "│ output_y (\u001b[38;5;33mDense\u001b[0m)    │ (\u001b[38;5;45mNone\u001b[0m, \u001b[38;5;34m3\u001b[0m)         │        \u001b[38;5;34m195\u001b[0m │ dense_1[\u001b[38;5;34m0\u001b[0m][\u001b[38;5;34m0\u001b[0m]     │\n",
       "├─────────────────────┼───────────────────┼────────────┼───────────────────┤\n",
       "│ output_z (\u001b[38;5;33mDense\u001b[0m)    │ (\u001b[38;5;45mNone\u001b[0m, \u001b[38;5;34m25\u001b[0m)        │      \u001b[38;5;34m1,625\u001b[0m │ dense_1[\u001b[38;5;34m0\u001b[0m][\u001b[38;5;34m0\u001b[0m]     │\n",
       "└─────────────────────┴───────────────────┴────────────┴───────────────────┘\n"
      ]
     },
     "metadata": {},
     "output_type": "display_data"
    },
    {
     "data": {
      "text/html": [
       "<pre style=\"white-space:pre;overflow-x:auto;line-height:normal;font-family:Menlo,'DejaVu Sans Mono',consolas,'Courier New',monospace\"><span style=\"font-weight: bold\"> Total params: </span><span style=\"color: #00af00; text-decoration-color: #00af00\">14,759</span> (57.65 KB)\n",
       "</pre>\n"
      ],
      "text/plain": [
       "\u001b[1m Total params: \u001b[0m\u001b[38;5;34m14,759\u001b[0m (57.65 KB)\n"
      ]
     },
     "metadata": {},
     "output_type": "display_data"
    },
    {
     "data": {
      "text/html": [
       "<pre style=\"white-space:pre;overflow-x:auto;line-height:normal;font-family:Menlo,'DejaVu Sans Mono',consolas,'Courier New',monospace\"><span style=\"font-weight: bold\"> Trainable params: </span><span style=\"color: #00af00; text-decoration-color: #00af00\">14,759</span> (57.65 KB)\n",
       "</pre>\n"
      ],
      "text/plain": [
       "\u001b[1m Trainable params: \u001b[0m\u001b[38;5;34m14,759\u001b[0m (57.65 KB)\n"
      ]
     },
     "metadata": {},
     "output_type": "display_data"
    },
    {
     "data": {
      "text/html": [
       "<pre style=\"white-space:pre;overflow-x:auto;line-height:normal;font-family:Menlo,'DejaVu Sans Mono',consolas,'Courier New',monospace\"><span style=\"font-weight: bold\"> Non-trainable params: </span><span style=\"color: #00af00; text-decoration-color: #00af00\">0</span> (0.00 B)\n",
       "</pre>\n"
      ],
      "text/plain": [
       "\u001b[1m Non-trainable params: \u001b[0m\u001b[38;5;34m0\u001b[0m (0.00 B)\n"
      ]
     },
     "metadata": {},
     "output_type": "display_data"
    }
   ],
   "source": [
    "# definir las entradas\n",
    "input_N = Input(shape=(1,), name=\"input_N\")\n",
    "input_P = Input(shape=(1,), name=\"input_P\")\n",
    "input_T = Input(shape=(1,), name=\"input_T\")\n",
    "input_Q = Input(shape=(1,), name=\"input_Q\")\n",
    "input_w = Input(shape=(P,), name=\"input_w\")  \n",
    "input_K = Input(shape=(N,), name=\"input_K\")  \n",
    "input_c = Input(shape=(N,), name=\"input_c\")  \n",
    "input_beta = Input(shape=(P,), name=\"input_beta\") \n",
    "\n",
    "input_scalars = Concatenate(name=\"inputs\")([input_N, input_P, input_T, input_Q])\n",
    "input_vectors = Concatenate(name=\"input_vectors\")([input_w, input_K, input_c, input_beta])\n",
    "all_inputs = Concatenate(name=\"all_inputs\")([input_scalars, input_vectors])\n",
    "\n",
    "# procesar las entradas con capas densas\n",
    "dense = Dense(64, activation=\"relu\")(all_inputs)\n",
    "dense = Dense(64, activation=\"relu\")(dense)\n",
    "\n",
    "# salida X: matriz 25x3 (P x N)\n",
    "output_x = Dense(25 * 3, activation=\"sigmoid\", name=\"output_x\")(dense)\n",
    "output_x = Reshape((25, 3), name=\"reshape_x\")(output_x)\n",
    "\n",
    "# salida Y: vector 1x3 (1 x N)\n",
    "output_y = Dense(3, activation=\"sigmoid\", name=\"output_y\")(dense)\n",
    "\n",
    "# salida Z: vector 1x25 (1 x P)\n",
    "output_z = Dense(25, activation=\"sigmoid\", name=\"output_z\")(dense)\n",
    "\n",
    "# definir el modelo\n",
    "model = Model(inputs=[input_N, input_P, input_T, input_Q, input_w, input_K, input_c, input_beta], \n",
    "              outputs=[output_x, output_y, output_z])\n",
    "\n",
    "# compilar el modelo\n",
    "model.compile(optimizer=\"adam\", \n",
    "              loss={\"reshape_x\": \"mse\", \"output_y\": \"mse\", \"output_z\": \"mse\"},\n",
    "              metrics={\"reshape_x\": \"mae\", \"output_y\": \"mae\", \"output_z\": \"mae\"})\n",
    "\n",
    "model.summary()\n"
   ]
  },
  {
   "cell_type": "code",
   "execution_count": 8,
   "metadata": {},
   "outputs": [],
   "source": [
    "# pasar los datos del csv a una lista resultados\n",
    "data = pd.read_csv(\"resultados.csv\")\n",
    "resultados = data.values.tolist()"
   ]
  },
  {
   "cell_type": "code",
   "execution_count": 9,
   "metadata": {},
   "outputs": [],
   "source": [
    "param_N = [3 for i in range(num_instancias)]\n",
    "param_P = [25 for i in range(num_instancias)]\n",
    "param_w = [resultados[i][4] for i in range(num_instancias)]\n",
    "param_w = np.array([eval(param_w[i]) for i in range(num_instancias)])\n",
    "\n",
    "param_K = [resultados[i][5] for i in range(num_instancias)]\n",
    "param_K = np.array([eval(param_K[i]) for i in range(num_instancias)])\n",
    "\n",
    "param_c = [resultados[i][6] for i in range(num_instancias)]\n",
    "param_c = np.array([eval(param_c[i]) for i in range(num_instancias)])\n",
    "\n",
    "param_beta = [resultados[i][7] for i in range(num_instancias)]\n",
    "param_beta = np.array([eval(param_beta[i]) for i in range(num_instancias)])\n",
    "\n",
    "param_T = [resultados[i][8] for i in range(num_instancias)]\n",
    "param_Q = [resultados[i][9] for i in range(num_instancias)]\n",
    "\n",
    "x_values = [resultados[i][0] for i in range(num_instancias)]\n",
    "x_values = np.array([eval(x_values[i]) for i in range(num_instancias)])\n",
    "\n",
    "y_values = [resultados[i][1] for i in range(num_instancias)]\n",
    "y_values = np.array([eval(y_values[i]) for i in range(num_instancias)])\n",
    "\n",
    "z_values = [resultados[i][2] for i in range(num_instancias)]\n",
    "z_values = np.array([eval(z_values[i]) for i in range(num_instancias)])\n",
    "\n",
    "t_values = [resultados[i][3] for i in range(num_instancias)]\n",
    "t_values = np.array([eval(t_values[i]) for i in range(num_instancias)])\n"
   ]
  },
  {
   "cell_type": "code",
   "execution_count": 10,
   "metadata": {},
   "outputs": [],
   "source": [
    "X_N_train, X_N_test = train_test_split(param_N, test_size=0.2, random_state=42)\n",
    "X_P_train, X_P_test = train_test_split(param_P, test_size=0.2, random_state=42)\n",
    "X_T_train, X_T_test = train_test_split(param_T, test_size=0.2, random_state=42)\n",
    "X_Q_train, X_Q_test = train_test_split(param_Q, test_size=0.2, random_state=42)\n",
    "X_w_train, X_w_test = train_test_split(param_w, test_size=0.2, random_state=42)\n",
    "X_K_train, X_K_test = train_test_split(param_K, test_size=0.2, random_state=42)\n",
    "X_c_train, X_c_test = train_test_split(param_c, test_size=0.2, random_state=42)\n",
    "X_beta_train, X_beta_test = train_test_split(param_beta, test_size=0.2, random_state=42)\n",
    "\n",
    "x_train, x_test = train_test_split(x_values, test_size=0.2, random_state=42)\n",
    "y_train, y_test = train_test_split(y_values, test_size=0.2, random_state=42)\n",
    "z_train, z_test = train_test_split(z_values, test_size=0.2, random_state=42)\n",
    "t_train, t_test = train_test_split(t_values, test_size=0.2, random_state=42)"
   ]
  },
  {
   "cell_type": "code",
   "execution_count": 11,
   "metadata": {},
   "outputs": [
    {
     "name": "stdout",
     "output_type": "stream",
     "text": [
      "(8000,)\n",
      "(8000,)\n",
      "(8000,)\n",
      "(8000,)\n",
      "(8000, 25)\n",
      "(8000, 3)\n",
      "(8000, 3)\n",
      "(8000, 25)\n",
      "\n",
      "(8000, 25, 3)\n",
      "(8000, 3)\n",
      "(8000, 25)\n",
      "(8000, 3)\n"
     ]
    }
   ],
   "source": [
    "X_N_train = np.array(X_N_train)\n",
    "X_P_train = np.array(X_P_train)\n",
    "X_T_train = np.array(X_T_train)\n",
    "X_Q_train = np.array(X_Q_train)\n",
    "X_w_train = np.array(X_w_train)\n",
    "X_K_train = np.array(X_K_train)\n",
    "X_c_train = np.array(X_c_train)\n",
    "X_beta_train = np.array(X_beta_train)\n",
    "\n",
    "X_N_test = np.array(X_N_test)\n",
    "X_P_test = np.array(X_P_test)\n",
    "X_T_test = np.array(X_T_test)\n",
    "X_Q_test = np.array(X_Q_test)\n",
    "X_w_test = np.array(X_w_test)\n",
    "X_K_test = np.array(X_K_test)\n",
    "X_c_test = np.array(X_c_test)\n",
    "X_beta_test = np.array(X_beta_test)\n",
    "\n",
    "x_train = np.array(x_train)\n",
    "y_train = np.array(y_train)\n",
    "z_train = np.array(z_train)\n",
    "t_train = np.array(t_train)\n",
    "\n",
    "x_test = np.array(x_test)\n",
    "y_test = np.array(y_test)\n",
    "z_test = np.array(z_test)\n",
    "t_test = np.array(t_test)\n",
    "\n",
    "# hacerle round a las salidas\n",
    "x_train = np.round(x_train)\n",
    "y_train = np.round(y_train)\n",
    "z_train = np.round(z_train)\n",
    "\n",
    "x_test = np.round(x_test)\n",
    "y_test = np.round(y_test)\n",
    "z_test = np.round(z_test)\n",
    "\n",
    "# ver todas las shapes\n",
    "print(X_N_train.shape)\n",
    "print(X_P_train.shape)\n",
    "print(X_T_train.shape)\n",
    "print(X_Q_train.shape)\n",
    "print(X_w_train.shape)\n",
    "print(X_K_train.shape)\n",
    "print(X_c_train.shape)\n",
    "print(X_beta_train.shape)\n",
    "print()\n",
    "print(x_train.shape)\n",
    "print(y_train.shape)\n",
    "print(z_train.shape)\n",
    "print(t_train.shape)\n",
    "\n"
   ]
  },
  {
   "cell_type": "code",
   "execution_count": 12,
   "metadata": {},
   "outputs": [
    {
     "name": "stdout",
     "output_type": "stream",
     "text": [
      "X_N_train dtype: int64\n",
      "X_P_train dtype: int64\n",
      "X_T_train dtype: int64\n",
      "X_Q_train dtype: int64\n",
      "X_w_train dtype: int64\n",
      "X_K_train dtype: int64\n",
      "X_c_train dtype: int64\n",
      "X_beta_train dtype: int64\n",
      "x_train dtype: float64\n",
      "y_train dtype: float64\n",
      "z_train dtype: float64\n",
      "t_train dtype: float64\n"
     ]
    }
   ],
   "source": [
    "print(f\"X_N_train dtype: {X_N_train.dtype}\")\n",
    "print(f\"X_P_train dtype: {X_P_train.dtype}\")\n",
    "print(f\"X_T_train dtype: {X_T_train.dtype}\")\n",
    "print(f\"X_Q_train dtype: {X_Q_train.dtype}\")\n",
    "print(f\"X_w_train dtype: {X_w_train.dtype}\")\n",
    "print(f\"X_K_train dtype: {X_K_train.dtype}\")\n",
    "print(f\"X_c_train dtype: {X_c_train.dtype}\")\n",
    "print(f\"X_beta_train dtype: {X_beta_train.dtype}\")\n",
    "\n",
    "print(f\"x_train dtype: {x_train.dtype}\")\n",
    "print(f\"y_train dtype: {y_train.dtype}\")\n",
    "print(f\"z_train dtype: {z_train.dtype}\")\n",
    "print(f\"t_train dtype: {t_train.dtype}\")\n"
   ]
  },
  {
   "cell_type": "code",
   "execution_count": 13,
   "metadata": {},
   "outputs": [
    {
     "name": "stdout",
     "output_type": "stream",
     "text": [
      "Epoch 1/50\n",
      "\u001b[1m1000/1000\u001b[0m \u001b[32m━━━━━━━━━━━━━━━━━━━━\u001b[0m\u001b[37m\u001b[0m \u001b[1m5s\u001b[0m 3ms/step - loss: 1.4812 - output_y_loss: 0.6667 - output_y_mae: 0.6667 - output_z_loss: 0.3855 - output_z_mae: 0.3855 - reshape_x_loss: 0.4290 - reshape_x_mae: 0.4292 - val_loss: 1.4344 - val_output_y_loss: 0.6667 - val_output_y_mae: 0.6667 - val_output_z_loss: 0.3611 - val_output_z_mae: 0.3611 - val_reshape_x_loss: 0.4067 - val_reshape_x_mae: 0.4067\n",
      "Epoch 2/50\n",
      "\u001b[1m1000/1000\u001b[0m \u001b[32m━━━━━━━━━━━━━━━━━━━━\u001b[0m\u001b[37m\u001b[0m \u001b[1m2s\u001b[0m 2ms/step - loss: 1.4360 - output_y_loss: 0.6667 - output_y_mae: 0.6667 - output_z_loss: 0.3629 - output_z_mae: 0.3629 - reshape_x_loss: 0.4065 - reshape_x_mae: 0.4065 - val_loss: 1.4344 - val_output_y_loss: 0.6667 - val_output_y_mae: 0.6667 - val_output_z_loss: 0.3611 - val_output_z_mae: 0.3611 - val_reshape_x_loss: 0.4067 - val_reshape_x_mae: 0.4067\n",
      "Epoch 3/50\n",
      "\u001b[1m1000/1000\u001b[0m \u001b[32m━━━━━━━━━━━━━━━━━━━━\u001b[0m\u001b[37m\u001b[0m \u001b[1m2s\u001b[0m 2ms/step - loss: 1.4365 - output_y_loss: 0.6667 - output_y_mae: 0.6667 - output_z_loss: 0.3629 - output_z_mae: 0.3629 - reshape_x_loss: 0.4069 - reshape_x_mae: 0.4069 - val_loss: 1.4344 - val_output_y_loss: 0.6667 - val_output_y_mae: 0.6667 - val_output_z_loss: 0.3611 - val_output_z_mae: 0.3611 - val_reshape_x_loss: 0.4067 - val_reshape_x_mae: 0.4067\n",
      "Epoch 4/50\n",
      "\u001b[1m1000/1000\u001b[0m \u001b[32m━━━━━━━━━━━━━━━━━━━━\u001b[0m\u001b[37m\u001b[0m \u001b[1m2s\u001b[0m 2ms/step - loss: 1.4359 - output_y_loss: 0.6667 - output_y_mae: 0.6667 - output_z_loss: 0.3631 - output_z_mae: 0.3631 - reshape_x_loss: 0.4062 - reshape_x_mae: 0.4062 - val_loss: 1.4344 - val_output_y_loss: 0.6667 - val_output_y_mae: 0.6667 - val_output_z_loss: 0.3611 - val_output_z_mae: 0.3611 - val_reshape_x_loss: 0.4067 - val_reshape_x_mae: 0.4067\n",
      "Epoch 5/50\n",
      "\u001b[1m1000/1000\u001b[0m \u001b[32m━━━━━━━━━━━━━━━━━━━━\u001b[0m\u001b[37m\u001b[0m \u001b[1m3s\u001b[0m 3ms/step - loss: 1.4366 - output_y_loss: 0.6667 - output_y_mae: 0.6667 - output_z_loss: 0.3635 - output_z_mae: 0.3635 - reshape_x_loss: 0.4064 - reshape_x_mae: 0.4064 - val_loss: 1.4344 - val_output_y_loss: 0.6667 - val_output_y_mae: 0.6667 - val_output_z_loss: 0.3611 - val_output_z_mae: 0.3611 - val_reshape_x_loss: 0.4067 - val_reshape_x_mae: 0.4067\n",
      "Epoch 6/50\n",
      "\u001b[1m1000/1000\u001b[0m \u001b[32m━━━━━━━━━━━━━━━━━━━━\u001b[0m\u001b[37m\u001b[0m \u001b[1m3s\u001b[0m 3ms/step - loss: 1.4360 - output_y_loss: 0.6667 - output_y_mae: 0.6667 - output_z_loss: 0.3627 - output_z_mae: 0.3627 - reshape_x_loss: 0.4067 - reshape_x_mae: 0.4067 - val_loss: 1.4344 - val_output_y_loss: 0.6667 - val_output_y_mae: 0.6667 - val_output_z_loss: 0.3611 - val_output_z_mae: 0.3611 - val_reshape_x_loss: 0.4067 - val_reshape_x_mae: 0.4067\n",
      "Epoch 7/50\n",
      "\u001b[1m1000/1000\u001b[0m \u001b[32m━━━━━━━━━━━━━━━━━━━━\u001b[0m\u001b[37m\u001b[0m \u001b[1m2s\u001b[0m 2ms/step - loss: 1.4361 - output_y_loss: 0.6667 - output_y_mae: 0.6667 - output_z_loss: 0.3624 - output_z_mae: 0.3624 - reshape_x_loss: 0.4071 - reshape_x_mae: 0.4071 - val_loss: 1.4344 - val_output_y_loss: 0.6667 - val_output_y_mae: 0.6667 - val_output_z_loss: 0.3611 - val_output_z_mae: 0.3611 - val_reshape_x_loss: 0.4067 - val_reshape_x_mae: 0.4067\n",
      "Epoch 8/50\n",
      "\u001b[1m1000/1000\u001b[0m \u001b[32m━━━━━━━━━━━━━━━━━━━━\u001b[0m\u001b[37m\u001b[0m \u001b[1m2s\u001b[0m 2ms/step - loss: 1.4362 - output_y_loss: 0.6667 - output_y_mae: 0.6667 - output_z_loss: 0.3624 - output_z_mae: 0.3624 - reshape_x_loss: 0.4071 - reshape_x_mae: 0.4071 - val_loss: 1.4344 - val_output_y_loss: 0.6667 - val_output_y_mae: 0.6667 - val_output_z_loss: 0.3611 - val_output_z_mae: 0.3611 - val_reshape_x_loss: 0.4067 - val_reshape_x_mae: 0.4067\n",
      "Epoch 9/50\n",
      "\u001b[1m1000/1000\u001b[0m \u001b[32m━━━━━━━━━━━━━━━━━━━━\u001b[0m\u001b[37m\u001b[0m \u001b[1m3s\u001b[0m 2ms/step - loss: 1.4372 - output_y_loss: 0.6667 - output_y_mae: 0.6667 - output_z_loss: 0.3637 - output_z_mae: 0.3637 - reshape_x_loss: 0.4069 - reshape_x_mae: 0.4069 - val_loss: 1.4344 - val_output_y_loss: 0.6667 - val_output_y_mae: 0.6667 - val_output_z_loss: 0.3611 - val_output_z_mae: 0.3611 - val_reshape_x_loss: 0.4067 - val_reshape_x_mae: 0.4067\n",
      "Epoch 10/50\n",
      "\u001b[1m1000/1000\u001b[0m \u001b[32m━━━━━━━━━━━━━━━━━━━━\u001b[0m\u001b[37m\u001b[0m \u001b[1m3s\u001b[0m 3ms/step - loss: 1.4361 - output_y_loss: 0.6667 - output_y_mae: 0.6667 - output_z_loss: 0.3623 - output_z_mae: 0.3623 - reshape_x_loss: 0.4071 - reshape_x_mae: 0.4071 - val_loss: 1.4344 - val_output_y_loss: 0.6667 - val_output_y_mae: 0.6667 - val_output_z_loss: 0.3611 - val_output_z_mae: 0.3611 - val_reshape_x_loss: 0.4067 - val_reshape_x_mae: 0.4067\n",
      "Epoch 11/50\n",
      "\u001b[1m1000/1000\u001b[0m \u001b[32m━━━━━━━━━━━━━━━━━━━━\u001b[0m\u001b[37m\u001b[0m \u001b[1m2s\u001b[0m 2ms/step - loss: 1.4371 - output_y_loss: 0.6667 - output_y_mae: 0.6667 - output_z_loss: 0.3628 - output_z_mae: 0.3628 - reshape_x_loss: 0.4076 - reshape_x_mae: 0.4076 - val_loss: 1.4344 - val_output_y_loss: 0.6667 - val_output_y_mae: 0.6667 - val_output_z_loss: 0.3611 - val_output_z_mae: 0.3611 - val_reshape_x_loss: 0.4067 - val_reshape_x_mae: 0.4067\n",
      "Epoch 12/50\n",
      "\u001b[1m1000/1000\u001b[0m \u001b[32m━━━━━━━━━━━━━━━━━━━━\u001b[0m\u001b[37m\u001b[0m \u001b[1m2s\u001b[0m 2ms/step - loss: 1.4367 - output_y_loss: 0.6667 - output_y_mae: 0.6667 - output_z_loss: 0.3629 - output_z_mae: 0.3629 - reshape_x_loss: 0.4071 - reshape_x_mae: 0.4071 - val_loss: 1.4344 - val_output_y_loss: 0.6667 - val_output_y_mae: 0.6667 - val_output_z_loss: 0.3611 - val_output_z_mae: 0.3611 - val_reshape_x_loss: 0.4067 - val_reshape_x_mae: 0.4067\n",
      "Epoch 13/50\n",
      "\u001b[1m1000/1000\u001b[0m \u001b[32m━━━━━━━━━━━━━━━━━━━━\u001b[0m\u001b[37m\u001b[0m \u001b[1m3s\u001b[0m 3ms/step - loss: 1.4360 - output_y_loss: 0.6667 - output_y_mae: 0.6667 - output_z_loss: 0.3626 - output_z_mae: 0.3626 - reshape_x_loss: 0.4068 - reshape_x_mae: 0.4068 - val_loss: 1.4344 - val_output_y_loss: 0.6667 - val_output_y_mae: 0.6667 - val_output_z_loss: 0.3611 - val_output_z_mae: 0.3611 - val_reshape_x_loss: 0.4067 - val_reshape_x_mae: 0.4067\n",
      "Epoch 14/50\n",
      "\u001b[1m1000/1000\u001b[0m \u001b[32m━━━━━━━━━━━━━━━━━━━━\u001b[0m\u001b[37m\u001b[0m \u001b[1m2s\u001b[0m 2ms/step - loss: 1.4366 - output_y_loss: 0.6667 - output_y_mae: 0.6667 - output_z_loss: 0.3634 - output_z_mae: 0.3634 - reshape_x_loss: 0.4065 - reshape_x_mae: 0.4065 - val_loss: 1.4344 - val_output_y_loss: 0.6667 - val_output_y_mae: 0.6667 - val_output_z_loss: 0.3611 - val_output_z_mae: 0.3611 - val_reshape_x_loss: 0.4067 - val_reshape_x_mae: 0.4067\n",
      "Epoch 15/50\n",
      "\u001b[1m1000/1000\u001b[0m \u001b[32m━━━━━━━━━━━━━━━━━━━━\u001b[0m\u001b[37m\u001b[0m \u001b[1m3s\u001b[0m 3ms/step - loss: 1.4355 - output_y_loss: 0.6667 - output_y_mae: 0.6667 - output_z_loss: 0.3625 - output_z_mae: 0.3625 - reshape_x_loss: 0.4063 - reshape_x_mae: 0.4063 - val_loss: 1.4344 - val_output_y_loss: 0.6667 - val_output_y_mae: 0.6667 - val_output_z_loss: 0.3611 - val_output_z_mae: 0.3611 - val_reshape_x_loss: 0.4067 - val_reshape_x_mae: 0.4067\n",
      "Epoch 16/50\n",
      "\u001b[1m1000/1000\u001b[0m \u001b[32m━━━━━━━━━━━━━━━━━━━━\u001b[0m\u001b[37m\u001b[0m \u001b[1m2s\u001b[0m 2ms/step - loss: 1.4359 - output_y_loss: 0.6667 - output_y_mae: 0.6667 - output_z_loss: 0.3629 - output_z_mae: 0.3629 - reshape_x_loss: 0.4063 - reshape_x_mae: 0.4063 - val_loss: 1.4344 - val_output_y_loss: 0.6667 - val_output_y_mae: 0.6667 - val_output_z_loss: 0.3611 - val_output_z_mae: 0.3611 - val_reshape_x_loss: 0.4067 - val_reshape_x_mae: 0.4067\n",
      "Epoch 17/50\n",
      "\u001b[1m1000/1000\u001b[0m \u001b[32m━━━━━━━━━━━━━━━━━━━━\u001b[0m\u001b[37m\u001b[0m \u001b[1m3s\u001b[0m 3ms/step - loss: 1.4373 - output_y_loss: 0.6667 - output_y_mae: 0.6667 - output_z_loss: 0.3633 - output_z_mae: 0.3633 - reshape_x_loss: 0.4073 - reshape_x_mae: 0.4073 - val_loss: 1.4344 - val_output_y_loss: 0.6667 - val_output_y_mae: 0.6667 - val_output_z_loss: 0.3611 - val_output_z_mae: 0.3611 - val_reshape_x_loss: 0.4067 - val_reshape_x_mae: 0.4067\n",
      "Epoch 18/50\n",
      "\u001b[1m1000/1000\u001b[0m \u001b[32m━━━━━━━━━━━━━━━━━━━━\u001b[0m\u001b[37m\u001b[0m \u001b[1m3s\u001b[0m 3ms/step - loss: 1.4364 - output_y_loss: 0.6667 - output_y_mae: 0.6667 - output_z_loss: 0.3627 - output_z_mae: 0.3627 - reshape_x_loss: 0.4070 - reshape_x_mae: 0.4070 - val_loss: 1.4344 - val_output_y_loss: 0.6667 - val_output_y_mae: 0.6667 - val_output_z_loss: 0.3611 - val_output_z_mae: 0.3611 - val_reshape_x_loss: 0.4067 - val_reshape_x_mae: 0.4067\n",
      "Epoch 19/50\n",
      "\u001b[1m1000/1000\u001b[0m \u001b[32m━━━━━━━━━━━━━━━━━━━━\u001b[0m\u001b[37m\u001b[0m \u001b[1m3s\u001b[0m 3ms/step - loss: 1.4359 - output_y_loss: 0.6667 - output_y_mae: 0.6667 - output_z_loss: 0.3623 - output_z_mae: 0.3623 - reshape_x_loss: 0.4069 - reshape_x_mae: 0.4069 - val_loss: 1.4344 - val_output_y_loss: 0.6667 - val_output_y_mae: 0.6667 - val_output_z_loss: 0.3611 - val_output_z_mae: 0.3611 - val_reshape_x_loss: 0.4067 - val_reshape_x_mae: 0.4067\n",
      "Epoch 20/50\n",
      "\u001b[1m1000/1000\u001b[0m \u001b[32m━━━━━━━━━━━━━━━━━━━━\u001b[0m\u001b[37m\u001b[0m \u001b[1m3s\u001b[0m 3ms/step - loss: 1.4374 - output_y_loss: 0.6667 - output_y_mae: 0.6667 - output_z_loss: 0.3632 - output_z_mae: 0.3632 - reshape_x_loss: 0.4075 - reshape_x_mae: 0.4075 - val_loss: 1.4344 - val_output_y_loss: 0.6667 - val_output_y_mae: 0.6667 - val_output_z_loss: 0.3611 - val_output_z_mae: 0.3611 - val_reshape_x_loss: 0.4067 - val_reshape_x_mae: 0.4067\n",
      "Epoch 21/50\n",
      "\u001b[1m1000/1000\u001b[0m \u001b[32m━━━━━━━━━━━━━━━━━━━━\u001b[0m\u001b[37m\u001b[0m \u001b[1m3s\u001b[0m 3ms/step - loss: 1.4355 - output_y_loss: 0.6667 - output_y_mae: 0.6667 - output_z_loss: 0.3623 - output_z_mae: 0.3623 - reshape_x_loss: 0.4066 - reshape_x_mae: 0.4066 - val_loss: 1.4344 - val_output_y_loss: 0.6667 - val_output_y_mae: 0.6667 - val_output_z_loss: 0.3611 - val_output_z_mae: 0.3611 - val_reshape_x_loss: 0.4067 - val_reshape_x_mae: 0.4067\n",
      "Epoch 22/50\n",
      "\u001b[1m1000/1000\u001b[0m \u001b[32m━━━━━━━━━━━━━━━━━━━━\u001b[0m\u001b[37m\u001b[0m \u001b[1m3s\u001b[0m 3ms/step - loss: 1.4359 - output_y_loss: 0.6667 - output_y_mae: 0.6667 - output_z_loss: 0.3624 - output_z_mae: 0.3624 - reshape_x_loss: 0.4068 - reshape_x_mae: 0.4068 - val_loss: 1.4344 - val_output_y_loss: 0.6667 - val_output_y_mae: 0.6667 - val_output_z_loss: 0.3611 - val_output_z_mae: 0.3611 - val_reshape_x_loss: 0.4067 - val_reshape_x_mae: 0.4067\n",
      "Epoch 23/50\n",
      "\u001b[1m1000/1000\u001b[0m \u001b[32m━━━━━━━━━━━━━━━━━━━━\u001b[0m\u001b[37m\u001b[0m \u001b[1m3s\u001b[0m 3ms/step - loss: 1.4364 - output_y_loss: 0.6667 - output_y_mae: 0.6667 - output_z_loss: 0.3631 - output_z_mae: 0.3631 - reshape_x_loss: 0.4066 - reshape_x_mae: 0.4066 - val_loss: 1.4344 - val_output_y_loss: 0.6667 - val_output_y_mae: 0.6667 - val_output_z_loss: 0.3611 - val_output_z_mae: 0.3611 - val_reshape_x_loss: 0.4067 - val_reshape_x_mae: 0.4067\n",
      "Epoch 24/50\n",
      "\u001b[1m1000/1000\u001b[0m \u001b[32m━━━━━━━━━━━━━━━━━━━━\u001b[0m\u001b[37m\u001b[0m \u001b[1m2s\u001b[0m 2ms/step - loss: 1.4362 - output_y_loss: 0.6667 - output_y_mae: 0.6667 - output_z_loss: 0.3631 - output_z_mae: 0.3631 - reshape_x_loss: 0.4065 - reshape_x_mae: 0.4065 - val_loss: 1.4344 - val_output_y_loss: 0.6667 - val_output_y_mae: 0.6667 - val_output_z_loss: 0.3611 - val_output_z_mae: 0.3611 - val_reshape_x_loss: 0.4067 - val_reshape_x_mae: 0.4067\n",
      "Epoch 25/50\n",
      "\u001b[1m1000/1000\u001b[0m \u001b[32m━━━━━━━━━━━━━━━━━━━━\u001b[0m\u001b[37m\u001b[0m \u001b[1m2s\u001b[0m 2ms/step - loss: 1.4359 - output_y_loss: 0.6667 - output_y_mae: 0.6667 - output_z_loss: 0.3622 - output_z_mae: 0.3622 - reshape_x_loss: 0.4070 - reshape_x_mae: 0.4070 - val_loss: 1.4344 - val_output_y_loss: 0.6667 - val_output_y_mae: 0.6667 - val_output_z_loss: 0.3611 - val_output_z_mae: 0.3611 - val_reshape_x_loss: 0.4067 - val_reshape_x_mae: 0.4067\n",
      "Epoch 26/50\n",
      "\u001b[1m1000/1000\u001b[0m \u001b[32m━━━━━━━━━━━━━━━━━━━━\u001b[0m\u001b[37m\u001b[0m \u001b[1m3s\u001b[0m 3ms/step - loss: 1.4359 - output_y_loss: 0.6667 - output_y_mae: 0.6667 - output_z_loss: 0.3627 - output_z_mae: 0.3627 - reshape_x_loss: 0.4065 - reshape_x_mae: 0.4065 - val_loss: 1.4344 - val_output_y_loss: 0.6667 - val_output_y_mae: 0.6667 - val_output_z_loss: 0.3611 - val_output_z_mae: 0.3611 - val_reshape_x_loss: 0.4067 - val_reshape_x_mae: 0.4067\n",
      "Epoch 27/50\n",
      "\u001b[1m1000/1000\u001b[0m \u001b[32m━━━━━━━━━━━━━━━━━━━━\u001b[0m\u001b[37m\u001b[0m \u001b[1m3s\u001b[0m 2ms/step - loss: 1.4358 - output_y_loss: 0.6667 - output_y_mae: 0.6667 - output_z_loss: 0.3625 - output_z_mae: 0.3625 - reshape_x_loss: 0.4066 - reshape_x_mae: 0.4066 - val_loss: 1.4344 - val_output_y_loss: 0.6667 - val_output_y_mae: 0.6667 - val_output_z_loss: 0.3611 - val_output_z_mae: 0.3611 - val_reshape_x_loss: 0.4067 - val_reshape_x_mae: 0.4067\n",
      "Epoch 28/50\n",
      "\u001b[1m1000/1000\u001b[0m \u001b[32m━━━━━━━━━━━━━━━━━━━━\u001b[0m\u001b[37m\u001b[0m \u001b[1m3s\u001b[0m 3ms/step - loss: 1.4365 - output_y_loss: 0.6667 - output_y_mae: 0.6667 - output_z_loss: 0.3625 - output_z_mae: 0.3625 - reshape_x_loss: 0.4073 - reshape_x_mae: 0.4073 - val_loss: 1.4344 - val_output_y_loss: 0.6667 - val_output_y_mae: 0.6667 - val_output_z_loss: 0.3611 - val_output_z_mae: 0.3611 - val_reshape_x_loss: 0.4067 - val_reshape_x_mae: 0.4067\n",
      "Epoch 29/50\n",
      "\u001b[1m1000/1000\u001b[0m \u001b[32m━━━━━━━━━━━━━━━━━━━━\u001b[0m\u001b[37m\u001b[0m \u001b[1m3s\u001b[0m 3ms/step - loss: 1.4364 - output_y_loss: 0.6667 - output_y_mae: 0.6667 - output_z_loss: 0.3631 - output_z_mae: 0.3631 - reshape_x_loss: 0.4066 - reshape_x_mae: 0.4066 - val_loss: 1.4344 - val_output_y_loss: 0.6667 - val_output_y_mae: 0.6667 - val_output_z_loss: 0.3611 - val_output_z_mae: 0.3611 - val_reshape_x_loss: 0.4067 - val_reshape_x_mae: 0.4067\n",
      "Epoch 30/50\n",
      "\u001b[1m1000/1000\u001b[0m \u001b[32m━━━━━━━━━━━━━━━━━━━━\u001b[0m\u001b[37m\u001b[0m \u001b[1m3s\u001b[0m 3ms/step - loss: 1.4352 - output_y_loss: 0.6667 - output_y_mae: 0.6667 - output_z_loss: 0.3623 - output_z_mae: 0.3623 - reshape_x_loss: 0.4062 - reshape_x_mae: 0.4062 - val_loss: 1.4344 - val_output_y_loss: 0.6667 - val_output_y_mae: 0.6667 - val_output_z_loss: 0.3611 - val_output_z_mae: 0.3611 - val_reshape_x_loss: 0.4067 - val_reshape_x_mae: 0.4067\n",
      "Epoch 31/50\n",
      "\u001b[1m1000/1000\u001b[0m \u001b[32m━━━━━━━━━━━━━━━━━━━━\u001b[0m\u001b[37m\u001b[0m \u001b[1m3s\u001b[0m 3ms/step - loss: 1.4360 - output_y_loss: 0.6667 - output_y_mae: 0.6667 - output_z_loss: 0.3631 - output_z_mae: 0.3631 - reshape_x_loss: 0.4063 - reshape_x_mae: 0.4063 - val_loss: 1.4344 - val_output_y_loss: 0.6667 - val_output_y_mae: 0.6667 - val_output_z_loss: 0.3611 - val_output_z_mae: 0.3611 - val_reshape_x_loss: 0.4067 - val_reshape_x_mae: 0.4067\n",
      "Epoch 32/50\n",
      "\u001b[1m1000/1000\u001b[0m \u001b[32m━━━━━━━━━━━━━━━━━━━━\u001b[0m\u001b[37m\u001b[0m \u001b[1m3s\u001b[0m 3ms/step - loss: 1.4291 - output_y_loss: 0.6667 - output_y_mae: 0.6667 - output_z_loss: 0.3591 - output_z_mae: 0.3591 - reshape_x_loss: 0.4033 - reshape_x_mae: 0.4033 - val_loss: 1.2862 - val_output_y_loss: 0.6667 - val_output_y_mae: 0.6667 - val_output_z_loss: 0.2811 - val_output_z_mae: 0.2811 - val_reshape_x_loss: 0.3385 - val_reshape_x_mae: 0.3385\n",
      "Epoch 33/50\n",
      "\u001b[1m1000/1000\u001b[0m \u001b[32m━━━━━━━━━━━━━━━━━━━━\u001b[0m\u001b[37m\u001b[0m \u001b[1m3s\u001b[0m 3ms/step - loss: 1.2884 - output_y_loss: 0.6667 - output_y_mae: 0.6667 - output_z_loss: 0.2828 - output_z_mae: 0.2828 - reshape_x_loss: 0.3389 - reshape_x_mae: 0.3389 - val_loss: 1.2862 - val_output_y_loss: 0.6667 - val_output_y_mae: 0.6667 - val_output_z_loss: 0.2811 - val_output_z_mae: 0.2811 - val_reshape_x_loss: 0.3385 - val_reshape_x_mae: 0.3385\n",
      "Epoch 34/50\n",
      "\u001b[1m1000/1000\u001b[0m \u001b[32m━━━━━━━━━━━━━━━━━━━━\u001b[0m\u001b[37m\u001b[0m \u001b[1m3s\u001b[0m 3ms/step - loss: 1.2875 - output_y_loss: 0.6667 - output_y_mae: 0.6667 - output_z_loss: 0.2826 - output_z_mae: 0.2826 - reshape_x_loss: 0.3383 - reshape_x_mae: 0.3383 - val_loss: 1.2862 - val_output_y_loss: 0.6667 - val_output_y_mae: 0.6667 - val_output_z_loss: 0.2811 - val_output_z_mae: 0.2811 - val_reshape_x_loss: 0.3385 - val_reshape_x_mae: 0.3385\n",
      "Epoch 35/50\n",
      "\u001b[1m1000/1000\u001b[0m \u001b[32m━━━━━━━━━━━━━━━━━━━━\u001b[0m\u001b[37m\u001b[0m \u001b[1m3s\u001b[0m 3ms/step - loss: 1.2883 - output_y_loss: 0.6667 - output_y_mae: 0.6667 - output_z_loss: 0.2826 - output_z_mae: 0.2826 - reshape_x_loss: 0.3390 - reshape_x_mae: 0.3390 - val_loss: 1.2862 - val_output_y_loss: 0.6667 - val_output_y_mae: 0.6667 - val_output_z_loss: 0.2811 - val_output_z_mae: 0.2811 - val_reshape_x_loss: 0.3385 - val_reshape_x_mae: 0.3385\n",
      "Epoch 36/50\n",
      "\u001b[1m1000/1000\u001b[0m \u001b[32m━━━━━━━━━━━━━━━━━━━━\u001b[0m\u001b[37m\u001b[0m \u001b[1m3s\u001b[0m 3ms/step - loss: 1.2881 - output_y_loss: 0.6667 - output_y_mae: 0.6667 - output_z_loss: 0.2833 - output_z_mae: 0.2833 - reshape_x_loss: 0.3381 - reshape_x_mae: 0.3381 - val_loss: 1.2862 - val_output_y_loss: 0.6667 - val_output_y_mae: 0.6667 - val_output_z_loss: 0.2811 - val_output_z_mae: 0.2811 - val_reshape_x_loss: 0.3385 - val_reshape_x_mae: 0.3385\n",
      "Epoch 37/50\n",
      "\u001b[1m1000/1000\u001b[0m \u001b[32m━━━━━━━━━━━━━━━━━━━━\u001b[0m\u001b[37m\u001b[0m \u001b[1m2s\u001b[0m 2ms/step - loss: 1.2886 - output_y_loss: 0.6667 - output_y_mae: 0.6667 - output_z_loss: 0.2828 - output_z_mae: 0.2828 - reshape_x_loss: 0.3391 - reshape_x_mae: 0.3391 - val_loss: 1.2862 - val_output_y_loss: 0.6667 - val_output_y_mae: 0.6667 - val_output_z_loss: 0.2811 - val_output_z_mae: 0.2811 - val_reshape_x_loss: 0.3385 - val_reshape_x_mae: 0.3385\n",
      "Epoch 38/50\n",
      "\u001b[1m1000/1000\u001b[0m \u001b[32m━━━━━━━━━━━━━━━━━━━━\u001b[0m\u001b[37m\u001b[0m \u001b[1m2s\u001b[0m 2ms/step - loss: 1.2874 - output_y_loss: 0.6667 - output_y_mae: 0.6667 - output_z_loss: 0.2825 - output_z_mae: 0.2825 - reshape_x_loss: 0.3382 - reshape_x_mae: 0.3382 - val_loss: 1.2862 - val_output_y_loss: 0.6667 - val_output_y_mae: 0.6667 - val_output_z_loss: 0.2811 - val_output_z_mae: 0.2811 - val_reshape_x_loss: 0.3385 - val_reshape_x_mae: 0.3385\n",
      "Epoch 39/50\n",
      "\u001b[1m1000/1000\u001b[0m \u001b[32m━━━━━━━━━━━━━━━━━━━━\u001b[0m\u001b[37m\u001b[0m \u001b[1m2s\u001b[0m 2ms/step - loss: 1.2873 - output_y_loss: 0.6667 - output_y_mae: 0.6667 - output_z_loss: 0.2830 - output_z_mae: 0.2830 - reshape_x_loss: 0.3376 - reshape_x_mae: 0.3376 - val_loss: 1.2862 - val_output_y_loss: 0.6667 - val_output_y_mae: 0.6667 - val_output_z_loss: 0.2811 - val_output_z_mae: 0.2811 - val_reshape_x_loss: 0.3385 - val_reshape_x_mae: 0.3385\n",
      "Epoch 40/50\n",
      "\u001b[1m1000/1000\u001b[0m \u001b[32m━━━━━━━━━━━━━━━━━━━━\u001b[0m\u001b[37m\u001b[0m \u001b[1m2s\u001b[0m 2ms/step - loss: 1.2879 - output_y_loss: 0.6667 - output_y_mae: 0.6667 - output_z_loss: 0.2828 - output_z_mae: 0.2828 - reshape_x_loss: 0.3384 - reshape_x_mae: 0.3384 - val_loss: 1.2862 - val_output_y_loss: 0.6667 - val_output_y_mae: 0.6667 - val_output_z_loss: 0.2811 - val_output_z_mae: 0.2811 - val_reshape_x_loss: 0.3385 - val_reshape_x_mae: 0.3385\n",
      "Epoch 41/50\n",
      "\u001b[1m1000/1000\u001b[0m \u001b[32m━━━━━━━━━━━━━━━━━━━━\u001b[0m\u001b[37m\u001b[0m \u001b[1m2s\u001b[0m 2ms/step - loss: 1.2878 - output_y_loss: 0.6667 - output_y_mae: 0.6667 - output_z_loss: 0.2825 - output_z_mae: 0.2825 - reshape_x_loss: 0.3386 - reshape_x_mae: 0.3386 - val_loss: 1.2862 - val_output_y_loss: 0.6667 - val_output_y_mae: 0.6667 - val_output_z_loss: 0.2811 - val_output_z_mae: 0.2811 - val_reshape_x_loss: 0.3385 - val_reshape_x_mae: 0.3385\n",
      "Epoch 42/50\n",
      "\u001b[1m1000/1000\u001b[0m \u001b[32m━━━━━━━━━━━━━━━━━━━━\u001b[0m\u001b[37m\u001b[0m \u001b[1m2s\u001b[0m 2ms/step - loss: 1.2890 - output_y_loss: 0.6667 - output_y_mae: 0.6667 - output_z_loss: 0.2833 - output_z_mae: 0.2833 - reshape_x_loss: 0.3390 - reshape_x_mae: 0.3390 - val_loss: 1.2862 - val_output_y_loss: 0.6667 - val_output_y_mae: 0.6667 - val_output_z_loss: 0.2811 - val_output_z_mae: 0.2811 - val_reshape_x_loss: 0.3385 - val_reshape_x_mae: 0.3385\n",
      "Epoch 43/50\n",
      "\u001b[1m1000/1000\u001b[0m \u001b[32m━━━━━━━━━━━━━━━━━━━━\u001b[0m\u001b[37m\u001b[0m \u001b[1m2s\u001b[0m 2ms/step - loss: 1.2886 - output_y_loss: 0.6667 - output_y_mae: 0.6667 - output_z_loss: 0.2834 - output_z_mae: 0.2834 - reshape_x_loss: 0.3386 - reshape_x_mae: 0.3386 - val_loss: 1.2862 - val_output_y_loss: 0.6667 - val_output_y_mae: 0.6667 - val_output_z_loss: 0.2811 - val_output_z_mae: 0.2811 - val_reshape_x_loss: 0.3385 - val_reshape_x_mae: 0.3385\n",
      "Epoch 44/50\n",
      "\u001b[1m1000/1000\u001b[0m \u001b[32m━━━━━━━━━━━━━━━━━━━━\u001b[0m\u001b[37m\u001b[0m \u001b[1m2s\u001b[0m 2ms/step - loss: 1.2866 - output_y_loss: 0.6667 - output_y_mae: 0.6667 - output_z_loss: 0.2820 - output_z_mae: 0.2820 - reshape_x_loss: 0.3379 - reshape_x_mae: 0.3379 - val_loss: 1.2862 - val_output_y_loss: 0.6667 - val_output_y_mae: 0.6667 - val_output_z_loss: 0.2811 - val_output_z_mae: 0.2811 - val_reshape_x_loss: 0.3385 - val_reshape_x_mae: 0.3385\n",
      "Epoch 45/50\n",
      "\u001b[1m1000/1000\u001b[0m \u001b[32m━━━━━━━━━━━━━━━━━━━━\u001b[0m\u001b[37m\u001b[0m \u001b[1m2s\u001b[0m 2ms/step - loss: 1.2877 - output_y_loss: 0.6667 - output_y_mae: 0.6667 - output_z_loss: 0.2823 - output_z_mae: 0.2823 - reshape_x_loss: 0.3388 - reshape_x_mae: 0.3388 - val_loss: 1.2862 - val_output_y_loss: 0.6667 - val_output_y_mae: 0.6667 - val_output_z_loss: 0.2811 - val_output_z_mae: 0.2811 - val_reshape_x_loss: 0.3385 - val_reshape_x_mae: 0.3385\n",
      "Epoch 46/50\n",
      "\u001b[1m1000/1000\u001b[0m \u001b[32m━━━━━━━━━━━━━━━━━━━━\u001b[0m\u001b[37m\u001b[0m \u001b[1m2s\u001b[0m 2ms/step - loss: 1.2866 - output_y_loss: 0.6667 - output_y_mae: 0.6667 - output_z_loss: 0.2820 - output_z_mae: 0.2820 - reshape_x_loss: 0.3380 - reshape_x_mae: 0.3380 - val_loss: 1.2862 - val_output_y_loss: 0.6667 - val_output_y_mae: 0.6667 - val_output_z_loss: 0.2811 - val_output_z_mae: 0.2811 - val_reshape_x_loss: 0.3385 - val_reshape_x_mae: 0.3385\n",
      "Epoch 47/50\n",
      "\u001b[1m1000/1000\u001b[0m \u001b[32m━━━━━━━━━━━━━━━━━━━━\u001b[0m\u001b[37m\u001b[0m \u001b[1m3s\u001b[0m 3ms/step - loss: 1.2886 - output_y_loss: 0.6667 - output_y_mae: 0.6667 - output_z_loss: 0.2835 - output_z_mae: 0.2835 - reshape_x_loss: 0.3384 - reshape_x_mae: 0.3384 - val_loss: 1.2862 - val_output_y_loss: 0.6667 - val_output_y_mae: 0.6667 - val_output_z_loss: 0.2811 - val_output_z_mae: 0.2811 - val_reshape_x_loss: 0.3385 - val_reshape_x_mae: 0.3385\n",
      "Epoch 48/50\n",
      "\u001b[1m1000/1000\u001b[0m \u001b[32m━━━━━━━━━━━━━━━━━━━━\u001b[0m\u001b[37m\u001b[0m \u001b[1m2s\u001b[0m 2ms/step - loss: 1.2881 - output_y_loss: 0.6667 - output_y_mae: 0.6667 - output_z_loss: 0.2831 - output_z_mae: 0.2831 - reshape_x_loss: 0.3384 - reshape_x_mae: 0.3384 - val_loss: 1.2862 - val_output_y_loss: 0.6667 - val_output_y_mae: 0.6667 - val_output_z_loss: 0.2811 - val_output_z_mae: 0.2811 - val_reshape_x_loss: 0.3385 - val_reshape_x_mae: 0.3385\n",
      "Epoch 49/50\n",
      "\u001b[1m1000/1000\u001b[0m \u001b[32m━━━━━━━━━━━━━━━━━━━━\u001b[0m\u001b[37m\u001b[0m \u001b[1m3s\u001b[0m 2ms/step - loss: 1.2877 - output_y_loss: 0.6667 - output_y_mae: 0.6667 - output_z_loss: 0.2825 - output_z_mae: 0.2825 - reshape_x_loss: 0.3386 - reshape_x_mae: 0.3386 - val_loss: 1.2862 - val_output_y_loss: 0.6667 - val_output_y_mae: 0.6667 - val_output_z_loss: 0.2811 - val_output_z_mae: 0.2811 - val_reshape_x_loss: 0.3385 - val_reshape_x_mae: 0.3385\n",
      "Epoch 50/50\n",
      "\u001b[1m1000/1000\u001b[0m \u001b[32m━━━━━━━━━━━━━━━━━━━━\u001b[0m\u001b[37m\u001b[0m \u001b[1m2s\u001b[0m 2ms/step - loss: 1.2881 - output_y_loss: 0.6667 - output_y_mae: 0.6667 - output_z_loss: 0.2829 - output_z_mae: 0.2829 - reshape_x_loss: 0.3385 - reshape_x_mae: 0.3385 - val_loss: 1.2862 - val_output_y_loss: 0.6667 - val_output_y_mae: 0.6667 - val_output_z_loss: 0.2811 - val_output_z_mae: 0.2811 - val_reshape_x_loss: 0.3385 - val_reshape_x_mae: 0.3385\n"
     ]
    },
    {
     "data": {
      "text/plain": [
       "<keras.src.callbacks.history.History at 0x21792fd0390>"
      ]
     },
     "execution_count": 13,
     "metadata": {},
     "output_type": "execute_result"
    }
   ],
   "source": [
    "model.fit(\n",
    "    [X_N_train, X_P_train, X_T_train, X_Q_train, X_w_train, X_K_train, X_c_train, X_beta_train],\n",
    "    {\"reshape_x\": x_train, \"output_y\": y_train, \"output_z\": z_train},\n",
    "    validation_data=(\n",
    "        [X_N_test, X_P_test, X_T_test, X_Q_test, X_w_test, X_K_test, X_c_test, X_beta_test],\n",
    "        {\"reshape_x\": x_test, \"output_y\": y_test, \"output_z\": z_test}\n",
    "    ),\n",
    "    epochs=50,\n",
    "    batch_size=8\n",
    ")\n"
   ]
  },
  {
   "cell_type": "code",
   "execution_count": null,
   "metadata": {},
   "outputs": [],
   "source": [
    "# guardar el modelo\n",
    "#model.save(\"modelo_quirofanos.keras\")"
   ]
  },
  {
   "cell_type": "code",
   "execution_count": 15,
   "metadata": {},
   "outputs": [],
   "source": [
    "# cargar el modelo\n",
    "model = tf.keras.models.load_model(\"modelo_quirofanos.keras\")"
   ]
  },
  {
   "cell_type": "code",
   "execution_count": 16,
   "metadata": {},
   "outputs": [
    {
     "name": "stdout",
     "output_type": "stream",
     "text": [
      "\u001b[1m63/63\u001b[0m \u001b[32m━━━━━━━━━━━━━━━━━━━━\u001b[0m\u001b[37m\u001b[0m \u001b[1m1s\u001b[0m 3ms/step - loss: 1.2855 - output_y_loss: 0.6667 - output_y_mae: 0.6667 - output_z_loss: 0.2805 - output_z_mae: 0.2805 - reshape_x_loss: 0.3384 - reshape_x_mae: 0.3384\n"
     ]
    },
    {
     "data": {
      "text/plain": [
       "[1.2862132787704468,\n",
       " 0.3386177718639374,\n",
       " 0.6666667461395264,\n",
       " 0.28113096952438354,\n",
       " 0.6666666865348816,\n",
       " 0.2810799777507782,\n",
       " 0.33846667408943176]"
      ]
     },
     "execution_count": 16,
     "metadata": {},
     "output_type": "execute_result"
    }
   ],
   "source": [
    "# probar el conjunto de prueba\n",
    "model.evaluate(\n",
    "    [X_N_test, X_P_test, X_T_test, X_Q_test, X_w_test, X_K_test, X_c_test, X_beta_test],\n",
    "    {\"reshape_x\": x_test, \"output_y\": y_test, \"output_z\": z_test}\n",
    ")"
   ]
  },
  {
   "cell_type": "code",
   "execution_count": 17,
   "metadata": {},
   "outputs": [
    {
     "name": "stdout",
     "output_type": "stream",
     "text": [
      "\u001b[1m1/1\u001b[0m \u001b[32m━━━━━━━━━━━━━━━━━━━━\u001b[0m\u001b[37m\u001b[0m \u001b[1m0s\u001b[0m 148ms/step\n"
     ]
    }
   ],
   "source": [
    "# predecir para algun valor de entrada\n",
    "N = 3\n",
    "P = 25\n",
    "T = 32\n",
    "Q = 16\n",
    "w = np.random.randint(4, 16, P).tolist()  # P elementos, en horas\n",
    "K = np.random.randint(400, 500, N).tolist()  # N elementos, en dolares\n",
    "c = np.random.randint(50, 100, N).tolist()  # N elementos, en dolares\n",
    "beta = np.random.randint(500, 700, P).tolist()  # P elementos, en dolares\n",
    "\n",
    "x_pred, y_pred, z_pred = model.predict(\n",
    "    [np.array([N]), np.array([P]), np.array([T]), np.array([Q]), np.array([w]), np.array([K]), np.array([c]), np.array([beta])]\n",
    ")"
   ]
  },
  {
   "cell_type": "code",
   "execution_count": 18,
   "metadata": {},
   "outputs": [
    {
     "name": "stdout",
     "output_type": "stream",
     "text": [
      "x_pred:\n",
      "[[0. 0. 1.]\n",
      " [0. 1. 0.]\n",
      " [0. 1. 1.]\n",
      " [1. 1. 1.]\n",
      " [1. 0. 1.]\n",
      " [0. 0. 0.]\n",
      " [0. 1. 0.]\n",
      " [0. 0. 0.]\n",
      " [0. 1. 1.]\n",
      " [1. 0. 0.]\n",
      " [0. 0. 1.]\n",
      " [1. 0. 0.]\n",
      " [1. 0. 1.]\n",
      " [0. 0. 0.]\n",
      " [0. 0. 0.]\n",
      " [1. 0. 0.]\n",
      " [1. 0. 1.]\n",
      " [0. 0. 0.]\n",
      " [1. 0. 0.]\n",
      " [0. 0. 0.]\n",
      " [0. 0. 0.]\n",
      " [0. 1. 0.]\n",
      " [0. 1. 0.]\n",
      " [0. 0. 0.]\n",
      " [0. 1. 0.]]\n"
     ]
    }
   ],
   "source": [
    "print(\"x_pred:\")\n",
    "print(np.round(x_pred[0]))"
   ]
  },
  {
   "cell_type": "code",
   "execution_count": 19,
   "metadata": {},
   "outputs": [
    {
     "name": "stdout",
     "output_type": "stream",
     "text": [
      "y_pred:\n",
      "[[1. 0. 0.]]\n"
     ]
    }
   ],
   "source": [
    "print(\"y_pred:\")\n",
    "print(y_pred)"
   ]
  },
  {
   "cell_type": "code",
   "execution_count": 20,
   "metadata": {},
   "outputs": [
    {
     "name": "stdout",
     "output_type": "stream",
     "text": [
      "z_pred:\n",
      "[0. 1. 0. 0. 1. 0. 1. 0. 0. 0. 0. 1. 1. 1. 1. 1. 1. 1. 1. 0. 1. 1. 1. 0.\n",
      " 0.]\n"
     ]
    }
   ],
   "source": [
    "print(\"z_pred:\")\n",
    "print(np.round(z_pred[0]))"
   ]
  },
  {
   "cell_type": "code",
   "execution_count": 21,
   "metadata": {},
   "outputs": [
    {
     "name": "stdout",
     "output_type": "stream",
     "text": [
      "Set parameter Username\n",
      "Academic license - for non-commercial use only - expires 2025-05-17\n"
     ]
    }
   ],
   "source": [
    "# encontrar la solución óptima\n",
    "x_values, y_values, z_values, t_values = modelo_gurobi(N, P, T, Q, w, K, c, beta)"
   ]
  },
  {
   "cell_type": "code",
   "execution_count": 22,
   "metadata": {},
   "outputs": [
    {
     "name": "stdout",
     "output_type": "stream",
     "text": [
      "x_values:\n",
      "[-0.0, -0.0, 1.0]\n",
      "[-0.0, -0.0, 1.0]\n",
      "[-0.0, -0.0, 1.0]\n",
      "[-0.0, 1.0, -0.0]\n",
      "[1.0, -0.0, -0.0]\n",
      "[-0.0, -0.0, 1.0]\n",
      "[-0.0, 1.0, -0.0]\n",
      "[1.0, -0.0, -0.0]\n",
      "[1.0, -0.0, -0.0]\n",
      "[-0.0, 1.0, -0.0]\n",
      "[-0.0, -0.0, 1.0]\n",
      "[-0.0, -0.0, -0.0]\n",
      "[0.0, 0.0, 0.0]\n",
      "[0.0, 0.0, 0.0]\n",
      "[0.0, 0.0, 0.0]\n",
      "[0.0, 0.0, 0.0]\n",
      "[0.0, 0.0, 0.0]\n",
      "[0.0, 0.0, 0.0]\n",
      "[0.0, 0.0, 0.0]\n",
      "[0.0, 0.0, 0.0]\n",
      "[0.0, 0.0, 0.0]\n",
      "[0.0, 0.0, 0.0]\n",
      "[0.0, 0.0, 0.0]\n",
      "[0.0, 0.0, 0.0]\n",
      "[0.0, 0.0, 0.0]\n"
     ]
    }
   ],
   "source": [
    "print(\"x_values:\")\n",
    "for i in range(P):\n",
    "    print(x_values[i])"
   ]
  },
  {
   "cell_type": "code",
   "execution_count": 23,
   "metadata": {},
   "outputs": [
    {
     "name": "stdout",
     "output_type": "stream",
     "text": [
      "y_values:\n",
      "[1.0, 1.0, 1.0]\n"
     ]
    }
   ],
   "source": [
    "print(\"y_values:\")\n",
    "print(y_values)"
   ]
  },
  {
   "cell_type": "code",
   "execution_count": 24,
   "metadata": {},
   "outputs": [
    {
     "name": "stdout",
     "output_type": "stream",
     "text": [
      "z_values:\n",
      "[0.0, 0.0, 0.0, 0.0, 0.0, 0.0, 0.0, 0.0, 0.0, 0.0, -0.0, 1.0, 1.0, 1.0, 1.0, 1.0, 1.0, 1.0, 1.0, 1.0, 1.0, 1.0, 1.0, 1.0, 1.0]\n"
     ]
    }
   ],
   "source": [
    "print(\"z_values:\")\n",
    "print(z_values)"
   ]
  },
  {
   "cell_type": "code",
   "execution_count": 25,
   "metadata": {},
   "outputs": [
    {
     "name": "stdout",
     "output_type": "stream",
     "text": [
      "t_values:\n",
      "[-0.0, -0.0, -0.0]\n"
     ]
    }
   ],
   "source": [
    "print(\"t_values:\")\n",
    "print(t_values)"
   ]
  }
 ],
 "metadata": {
  "kernelspec": {
   "display_name": "Python 3",
   "language": "python",
   "name": "python3"
  },
  "language_info": {
   "codemirror_mode": {
    "name": "ipython",
    "version": 3
   },
   "file_extension": ".py",
   "mimetype": "text/x-python",
   "name": "python",
   "nbconvert_exporter": "python",
   "pygments_lexer": "ipython3",
   "version": "3.11.7"
  }
 },
 "nbformat": 4,
 "nbformat_minor": 2
}
